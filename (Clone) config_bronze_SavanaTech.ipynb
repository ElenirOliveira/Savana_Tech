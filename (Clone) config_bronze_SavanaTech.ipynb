{
 "cells": [
  {
   "cell_type": "code",
   "execution_count": 0,
   "metadata": {
    "application/vnd.databricks.v1+cell": {
     "cellMetadata": {
      "byteLimit": 2048000,
      "rowLimit": 10000
     },
     "inputWidgets": {},
     "nuid": "98b04628-e024-4c17-ae81-27277952bd5a",
     "showTitle": true,
     "tableResultSettingsMap": {},
     "title": "Ingestão de dados"
    }
   },
   "outputs": [],
   "source": [
    "from pyspark.sql import SparkSession\n",
    "\n",
    "spark = SparkSession.builder.getOrCreate()"
   ]
  },
  {
   "cell_type": "markdown",
   "metadata": {
    "application/vnd.databricks.v1+cell": {
     "cellMetadata": {
      "byteLimit": 2048000,
      "rowLimit": 10000
     },
     "inputWidgets": {},
     "nuid": "7d3c27e6-0c6c-4899-afb0-e09d2173a2a3",
     "showTitle": false,
     "tableResultSettingsMap": {},
     "title": ""
    }
   },
   "source": [
    "# Leitura dos dados"
   ]
  },
  {
   "cell_type": "code",
   "execution_count": 0,
   "metadata": {
    "application/vnd.databricks.v1+cell": {
     "cellMetadata": {
      "byteLimit": 2048000,
      "rowLimit": 10000
     },
     "inputWidgets": {},
     "nuid": "46354ac1-65e8-4ccb-836d-857c5a05586d",
     "showTitle": false,
     "tableResultSettingsMap": {},
     "title": ""
    }
   },
   "outputs": [],
   "source": [
    "spark.sql(\"USE CATALOG adb_cliente_savana_prd\")\n"
   ]
  },
  {
   "cell_type": "code",
   "execution_count": 0,
   "metadata": {
    "application/vnd.databricks.v1+cell": {
     "cellMetadata": {
      "byteLimit": 2048000,
      "rowLimit": 10000
     },
     "inputWidgets": {},
     "nuid": "f726c868-840d-415a-8c4b-f305805bc80c",
     "showTitle": false,
     "tableResultSettingsMap": {},
     "title": ""
    }
   },
   "outputs": [],
   "source": [
    "# Leitura de transações do MongoDB\n",
    "# MongoDB\n",
    "user = \"savana\"\n",
    "password = \"Savana2025!\"\n",
    "host = \"52.146.23.117\"\n",
    "database = \"transacao\"\n",
    "collection = \"transacoes\"\n",
    "uri = f\"mongodb://{user}:{password}@{host}:27017/{database}.{collection}?authSource=admin\"\n",
    "\n",
    "transacoes_df = spark.read \\\n",
    "    .format(\"com.mongodb.spark.sql.DefaultSource\") \\\n",
    "    .option(\"uri\", uri) \\\n",
    "    .option(\"database\", database) \\\n",
    "    .option(\"collection\", collection) \\\n",
    "    .load()\n",
    "\n",
    "display(transacoes_df)"
   ]
  },
  {
   "cell_type": "code",
   "execution_count": 0,
   "metadata": {
    "application/vnd.databricks.v1+cell": {
     "cellMetadata": {
      "byteLimit": 2048000,
      "rowLimit": 10000
     },
     "inputWidgets": {},
     "nuid": "4624a894-d362-4661-8f2b-a03c459b75bb",
     "showTitle": false,
     "tableResultSettingsMap": {},
     "title": ""
    }
   },
   "outputs": [],
   "source": [
    "# Ler os dados da origem\n",
    "df = spark.table(\"catalog_savana.erlacher_bronze.clientes\")\n",
    "\n",
    "# Verificar os dados\n",
    "df.display()\n",
    "\n",
    "df.write.format(\"delta\") \\\n",
    "  .mode(\"overwrite\") \\\n",
    "  .option(\"overwriteSchema\", \"true\") \\\n",
    "  .saveAsTable(\"adb_cliente_savana_prd.elenir_bronze.clientes\")\n",
    "\n",
    "# Escrever os dados no destino\n",
    "df.write.format(\"delta\").mode(\"overwrite\").saveAsTable(\"adb_cliente_savana_prd.elenir_bronze.clientes\")\n"
   ]
  },
  {
   "cell_type": "code",
   "execution_count": 0,
   "metadata": {
    "application/vnd.databricks.v1+cell": {
     "cellMetadata": {
      "byteLimit": 2048000,
      "rowLimit": 10000
     },
     "inputWidgets": {},
     "nuid": "7753362f-f7fe-4ef6-8dd2-e72e8d416768",
     "showTitle": false,
     "tableResultSettingsMap": {},
     "title": ""
    }
   },
   "outputs": [],
   "source": [
    "\n",
    "# PASSO 2 — Criar os schemas dentro do catálogo selecionado\n",
    "\n",
    "spark.sql(\"CREATE SCHEMA IF NOT EXISTS elenir_bronze\")\n",
    "\n",
    "spark.sql(\"CREATE SCHEMA IF NOT EXISTS elenir_silver\")\n",
    "\n",
    "spark.sql(\"CREATE SCHEMA IF NOT EXISTS elenir_gold\")\n"
   ]
  }
 ],
 "metadata": {
  "application/vnd.databricks.v1+notebook": {
   "computePreferences": null,
   "dashboards": [],
   "environmentMetadata": {
    "base_environment": "",
    "environment_version": "2"
   },
   "inputWidgetPreferences": null,
   "language": "python",
   "notebookMetadata": {
    "pythonIndentUnit": 4
   },
   "notebookName": "(Clone) config_bronze_SavanaTech",
   "widgets": {}
  },
  "language_info": {
   "name": "python"
  }
 },
 "nbformat": 4,
 "nbformat_minor": 0
}
