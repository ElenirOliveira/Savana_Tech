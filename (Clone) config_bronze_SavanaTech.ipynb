{
 "cells": [
  {
   "cell_type": "code",
   "execution_count": 0,
   "metadata": {
    "application/vnd.databricks.v1+cell": {
     "cellMetadata": {
      "byteLimit": 2048000,
      "rowLimit": 10000
     },
     "inputWidgets": {},
     "nuid": "98b04628-e024-4c17-ae81-27277952bd5a",
     "showTitle": true,
     "tableResultSettingsMap": {},
     "title": "Ingestão de dados"
    }
   },
   "outputs": [],
   "source": [
    "from pyspark.sql import SparkSession\n",
    "\n",
    "spark = SparkSession.builder.getOrCreate()"
   ]
  },
  {
   "cell_type": "markdown",
   "metadata": {
    "application/vnd.databricks.v1+cell": {
     "cellMetadata": {},
     "inputWidgets": {},
     "nuid": "7d3c27e6-0c6c-4899-afb0-e09d2173a2a3",
     "showTitle": false,
     "tableResultSettingsMap": {},
     "title": ""
    }
   },
   "source": [
    "# Leitura dos dados"
   ]
  },
  {
   "cell_type": "code",
   "execution_count": 0,
   "metadata": {
    "application/vnd.databricks.v1+cell": {
     "cellMetadata": {
      "byteLimit": 2048000,
      "rowLimit": 10000
     },
     "inputWidgets": {},
     "nuid": "f726c868-840d-415a-8c4b-f305805bc80c",
     "showTitle": false,
     "tableResultSettingsMap": {},
     "title": ""
    }
   },
   "outputs": [],
   "source": [
    "# Leitura de transações do MongoDB\n",
    "# MongoDB\n",
    "user = \"savana\"\n",
    "password = \"Savana2025!\"\n",
    "host = \"52.146.23.117\"\n",
    "database = \"transacao\"\n",
    "collection = \"transacoes\"\n",
    "uri = f\"mongodb://{user}:{password}@{host}:27017/{database}.{collection}?authSource=admin\"\n",
    "\n",
    "transacoes_df = spark.read \\\n",
    "    .format(\"com.mongodb.spark.sql.DefaultSource\") \\\n",
    "    .option(\"uri\", uri) \\\n",
    "    .option(\"database\", database) \\\n",
    "    .option(\"collection\", collection) \\\n",
    "    .load()\n",
    "\n",
    "display(transacoes_df)"
   ]
  },
  {
   "cell_type": "code",
   "execution_count": 0,
   "metadata": {
    "application/vnd.databricks.v1+cell": {
     "cellMetadata": {
      "byteLimit": 2048000,
      "rowLimit": 10000
     },
     "inputWidgets": {},
     "nuid": "7aef0034-ea53-4f6a-85d7-130982b1ced4",
     "showTitle": false,
     "tableResultSettingsMap": {},
     "title": ""
    }
   },
   "outputs": [],
   "source": [
    "# Parâmetros de conexão\n",
    "mysql_host = \"52.146.23.117\"\n",
    "mysql_port = \"3306\"\n",
    "mysql_db = \"your_existing_database_name\"\n",
    "mysql_user = \"root\"\n",
    "mysql_password = \"root\"\n",
    "mysql_table = \"clientes\"\n",
    "\n",
    "# Carregando dados da tabela clientes\n",
    "clientes_df = spark.read \\\n",
    "    .format(\"jdbc\") \\\n",
    "    .option(\"url\", f\"jdbc:mysql://{mysql_host}:{mysql_port}/{mysql_db}\") \\\n",
    "    .option(\"dbtable\", mysql_table) \\\n",
    "    .option(\"user\", mysql_user) \\\n",
    "    .option(\"password\", mysql_password) \\\n",
    "    .option(\"driver\", \"com.mysql.cj.jdbc.Driver\") \\\n",
    "    .load()\n"
   ]
  },
  {
   "cell_type": "code",
   "execution_count": 0,
   "metadata": {
    "application/vnd.databricks.v1+cell": {
     "cellMetadata": {
      "byteLimit": 2048000,
      "rowLimit": 10000
     },
     "inputWidgets": {},
     "nuid": "7f0098ef-ca30-411e-a01d-33746bd0468d",
     "showTitle": false,
     "tableResultSettingsMap": {},
     "title": ""
    }
   },
   "outputs": [],
   "source": [
    "#MySQL\n",
    "driver = \"com.mysql.cj.jdbc.Driver\"\n",
    "database_host = \"52.146.23.117\"\n",
    "database_port = \"3306\" #default\n",
    "database_name = \"clientes\"\n",
    "table = \"Clientes\"\n",
    "user = \"root\"\n",
    "password = \"root\"\n",
    "\n",
    "url = f\"jdbc:mysql://{database_host}:{database_port}/{database_name}\"\n",
    "\n",
    "clientes_df = spark.read \\\n",
    "    .format(\"jdbc\") \\\n",
    "    .option(\"url\", f\"jdbc:mysql://{database_host}:{database_port}/{database_name}\\\n",
    "    .option(\"dbtable\", \"clientes\") \\\n",
    "    .option(\"user\", \"root\") \\\n",
    "    .option(\"password\", \"root\") \\\n",
    "    .load()"
   ]
  },
  {
   "cell_type": "code",
   "execution_count": 0,
   "metadata": {
    "application/vnd.databricks.v1+cell": {
     "cellMetadata": {
      "byteLimit": 2048000,
      "rowLimit": 10000
     },
     "inputWidgets": {},
     "nuid": "46354ac1-65e8-4ccb-836d-857c5a05586d",
     "showTitle": false,
     "tableResultSettingsMap": {},
     "title": ""
    }
   },
   "outputs": [],
   "source": [
    "spark.sql(\"USE CATALOG adb_cliente_savana_prd\")\n"
   ]
  },
  {
   "cell_type": "code",
   "execution_count": 0,
   "metadata": {
    "application/vnd.databricks.v1+cell": {
     "cellMetadata": {
      "byteLimit": 2048000,
      "rowLimit": 10000
     },
     "inputWidgets": {},
     "nuid": "7753362f-f7fe-4ef6-8dd2-e72e8d416768",
     "showTitle": false,
     "tableResultSettingsMap": {},
     "title": ""
    }
   },
   "outputs": [],
   "source": [
    "\n",
    "# PASSO 2 — Criar os schemas dentro do catálogo selecionado\n",
    "\n",
    "spark.sql(\"CREATE SCHEMA IF NOT EXISTS elenir_bronze\")\n",
    "\n",
    "spark.sql(\"CREATE SCHEMA IF NOT EXISTS elenir_silver\")\n",
    "\n",
    "spark.sql(\"CREATE SCHEMA IF NOT EXISTS elenir_gold\")\n"
   ]
  },
  {
   "cell_type": "code",
   "execution_count": 0,
   "metadata": {
    "application/vnd.databricks.v1+cell": {
     "cellMetadata": {
      "byteLimit": 2048000,
      "rowLimit": 10000
     },
     "inputWidgets": {},
     "nuid": "b403d29e-76d3-49de-a746-9014604c0332",
     "showTitle": false,
     "tableResultSettingsMap": {},
     "title": ""
    }
   },
   "outputs": [],
   "source": [
    "%python\n",
    "meu_nome = \"elenir\"\n",
    "\n",
    "# Create the schema if it does not exist\n",
    "spark.sql(\"CREATE SCHEMA IF NOT EXISTS bronze\")\n",
    "\n",
    "# Write the DataFrames to the tables\n",
    "transacoes_df.write.mode(\"overwrite\").saveAsTable(f\"{meu_nome}_bronze.transacoes\")\n",
    "#clientes_df.write.mode(\"overwrite\").saveAsTable(f\"{meu_nome}_bronze.clientes\")"
   ]
  }
 ],
 "metadata": {
  "application/vnd.databricks.v1+notebook": {
   "computePreferences": null,
   "dashboards": [],
   "environmentMetadata": {
    "base_environment": "",
    "environment_version": "2"
   },
   "inputWidgetPreferences": null,
   "language": "python",
   "notebookMetadata": {
    "pythonIndentUnit": 4
   },
   "notebookName": "(Clone) config_bronze_SavanaTech",
   "widgets": {}
  },
  "language_info": {
   "name": "python"
  }
 },
 "nbformat": 4,
 "nbformat_minor": 0
}
