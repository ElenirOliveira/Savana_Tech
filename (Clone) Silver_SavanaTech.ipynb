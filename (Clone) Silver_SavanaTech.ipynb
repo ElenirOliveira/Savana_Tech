{
 "cells": [
  {
   "cell_type": "code",
   "execution_count": 0,
   "metadata": {
    "application/vnd.databricks.v1+cell": {
     "cellMetadata": {
      "byteLimit": 2048000,
      "rowLimit": 10000
     },
     "inputWidgets": {},
     "nuid": "3e05bf9e-6b1b-4ccb-acc5-829d39243ec4",
     "showTitle": false,
     "tableResultSettingsMap": {},
     "title": ""
    }
   },
   "outputs": [],
   "source": [
    "# Selecionar catálogo\n",
    "spark.sql(\"USE CATALOG adb_cliente_savana_prd\")\n",
    "meu_nome = \"elenir\"\n"
   ]
  },
  {
   "cell_type": "code",
   "execution_count": 0,
   "metadata": {
    "application/vnd.databricks.v1+cell": {
     "cellMetadata": {
      "byteLimit": 2048000,
      "rowLimit": 10000
     },
     "inputWidgets": {},
     "nuid": "f89acdf4-de9f-46a9-ba4b-6b2226ab9ac6",
     "showTitle": false,
     "tableResultSettingsMap": {},
     "title": ""
    },
    "jupyter": {
     "source_hidden": true
    }
   },
   "outputs": [],
   "source": [
    "# Carregar tabelas da Bronze\n",
    "bronze_transacoes = spark.table(f\"{meu_nome}_bronze.transacoes\")\n",
    "bronze_clientes = spark.table(f\"{meu_nome}_bronze.clientes\")\n",
    "\n",
    "# Visualizar dados\n",
    "display(bronze_transacoes)\n",
    "display(bronze_clientes)\n",
    "bronze_clientes.printSchema()"
   ]
  },
  {
   "cell_type": "code",
   "execution_count": 0,
   "metadata": {
    "application/vnd.databricks.v1+cell": {
     "cellMetadata": {
      "byteLimit": 2048000,
      "rowLimit": 10000
     },
     "inputWidgets": {},
     "nuid": "57049eab-c5aa-455f-87da-362745e1c989",
     "showTitle": false,
     "tableResultSettingsMap": {},
     "title": ""
    },
    "jupyter": {
     "source_hidden": true
    }
   },
   "outputs": [],
   "source": [
    "from pyspark.sql.functions import col, lower, trim, regexp_replace, when\n",
    "\n",
    "# ✔️ Tratamento e normalização\n",
    "silver_transacoes = bronze_transacoes \\\n",
    "    .withColumn(\"id\", regexp_replace(col(\"_id.oid\"), \"[-_:\\\\s'\\\\/().$!@]\", \"\")) \\\n",
    "    .withColumn(\"oid\", col(\"_id.oid\")) \\\n",
    "    .withColumn(\"Meio_de_Pgmto\", when(col(\"Meio_de_Pgmto\").isNull() | (trim(col(\"Meio_de_Pgmto\")) == \"\"), \"não informado\")\n",
    "                .otherwise(lower(trim(col(\"Meio_de_Pgmto\"))))) \\\n",
    "    .withColumn(\"Tipo\", when(col(\"Tipo\").isNull() | (trim(col(\"Tipo\")) == \"\"), \"não informado\")\n",
    "                .otherwise(lower(trim(col(\"Tipo\"))))) \\\n",
    "    .drop(\"_id\") \\\n",
    "    .dropna(subset=[\"ID_Cliente\", \"ID_Transacao\", \"Valor\", \"Meio_de_Pgmto\", \"Tipo\", \"id\"]) \\\n",
    "    .dropDuplicates([\"ID_Transacao\", \"ID_Cliente\", \"Valor\", \"Meio_de_Pgmto\", \"Tipo\"])\n",
    "\n",
    "# ✔️ Normalização dos meios de pagamento\n",
    "silver_transacoes = silver_transacoes.replace({\n",
    "    \"credito\": \"cartao de crédito\",\n",
    "    \"crédito\": \"cartao de crédito\",\n",
    "    \"debito\": \"cartao de débito\",\n",
    "    \"débito\": \"cartao de débito\",\n",
    "    \"pix\": \"pix\"\n",
    "}, subset=[\"Meio_de_Pgmto\"])\n",
    "\n",
    "# ✔️ Escrita na Silver\n",
    "silver_transacoes.write.format(\"delta\") \\\n",
    "    .mode(\"overwrite\") \\\n",
    "    .option(\"overwriteSchema\", \"true\") \\\n",
    "    .saveAsTable(f\"{meu_nome}_silver.transacoes_tratadas\")\n",
    "\n",
    "# ✔️ Conferindo dados\n",
    "display(silver_transacoes)\n",
    "\n"
   ]
  },
  {
   "cell_type": "code",
   "execution_count": 0,
   "metadata": {
    "application/vnd.databricks.v1+cell": {
     "cellMetadata": {
      "byteLimit": 2048000,
      "rowLimit": 10000
     },
     "inputWidgets": {},
     "nuid": "19816ec2-191a-4099-b2f4-c290dbaa4517",
     "showTitle": false,
     "tableResultSettingsMap": {},
     "title": ""
    },
    "jupyter": {
     "source_hidden": true
    }
   },
   "outputs": [],
   "source": [
    "from pyspark.sql.functions import (\n",
    "    col, trim, initcap, regexp_replace, when, length, lit\n",
    ")\n",
    "\n",
    "# ✔️ Tratamento dos dados\n",
    "silver_clientes = bronze_clientes \\\n",
    "    .withColumn(\"Nome\", when(col(\"Nome\").isNull() | (trim(col(\"Nome\")) == \"\"), \"Não informado\")\n",
    "                .otherwise(initcap(trim(col(\"Nome\"))))) \\\n",
    "    .withColumn(\"Cidade\", when(col(\"Cidade\").isNull() | (trim(col(\"Cidade\")) == \"\"), \"Não informado\")\n",
    "                .otherwise(initcap(trim(col(\"Cidade\"))))) \\\n",
    "    .withColumn(\"CPF\", regexp_replace(trim(when(col(\"CPF\").isNull(), \"00000000000\")\n",
    "                .otherwise(col(\"CPF\"))), \"[^0-9]\", \"\")) \\\n",
    "    .withColumn(\"Agencia\", regexp_replace(trim(when(col(\"Agencia\").isNull(), \"0000\")\n",
    "                .otherwise(col(\"Agencia\"))), \"[^0-9A-Za-z]\", \"\")) \\\n",
    "    .withColumn(\"CPF_valido\", when(length(col(\"CPF\")) == 11, True).otherwise(False)) \\\n",
    "    .dropDuplicates([\"ID\", \"CPF\"])\n",
    "\n",
    "# ✔️ Preencher valores nulos ou vazios que ainda restarem\n",
    "silver_clientes = silver_clientes.fillna({\n",
    "    \"Nome\": \"Não informado\",\n",
    "    \"Cidade\": \"Não informado\",\n",
    "    \"CPF\": \"00000000000\",\n",
    "    \"Agencia\": \"0000\"\n",
    "})\n",
    "\n",
    "# ✔️ Escrita no Silver com sobrescrição total do schema\n",
    "silver_clientes.write.format(\"delta\") \\\n",
    "    .mode(\"overwrite\") \\\n",
    "    .option(\"overwriteSchema\", \"true\") \\\n",
    "    .saveAsTable(f\"{meu_nome}_silver.clientes_tratados\")\n",
    "\n",
    "# ✔️ Conferindo os dados tratados\n",
    "display(silver_clientes)\n",
    "\n"
   ]
  },
  {
   "cell_type": "code",
   "execution_count": 0,
   "metadata": {
    "application/vnd.databricks.v1+cell": {
     "cellMetadata": {
      "byteLimit": 2048000,
      "rowLimit": 10000
     },
     "inputWidgets": {},
     "nuid": "c4d69bee-37f8-4b3e-a3fa-d79f9e331b16",
     "showTitle": false,
     "tableResultSettingsMap": {},
     "title": ""
    },
    "jupyter": {
     "source_hidden": true
    }
   },
   "outputs": [],
   "source": [
    "from pyspark.sql.functions import year, month, dayofmonth\n",
    "\n",
    "# ✔️ Carregar tabelas tratadas da Silver\n",
    "clientes_silver = spark.table(\"adb_cliente_savana_prd.elenir_silver.clientes_tratados\")\n",
    "transacoes_silver = spark.table(\"adb_cliente_savana_prd.elenir_silver.transacoes_tratadas\")\n",
    "\n",
    "# ✔️ Realizar o JOIN para enriquecimento\n",
    "transacoes_enriquecidas = transacoes_silver.join(\n",
    "    clientes_silver,\n",
    "    transacoes_silver[\"ID_Cliente\"] == clientes_silver[\"ID\"],\n",
    "    \"left\"\n",
    ").drop(clientes_silver[\"ID\"])\n",
    "\n",
    "# ✔️ Adicionar Ano, Mês e Dia a partir da coluna DataCriacao do cliente\n",
    "transacoes_enriquecidas = transacoes_enriquecidas \\\n",
    "    .withColumn(\"Ano\", year(clientes_silver[\"DataCriacao\"])) \\\n",
    "    .withColumn(\"Mes\", month(clientes_silver[\"DataCriacao\"])) \\\n",
    "    .withColumn(\"Dia\", dayofmonth(clientes_silver[\"DataCriacao\"]))\n",
    "\n",
    "# ✔️ Salvar na camada Silver enriquecida\n",
    "transacoes_enriquecidas.write.format(\"delta\") \\\n",
    "    .mode(\"overwrite\") \\\n",
    "    .option(\"overwriteSchema\", \"true\") \\\n",
    "    .saveAsTable(\"adb_cliente_savana_prd.elenir_silver.transacoes_enriquecidas\")\n",
    "\n",
    "# ✔️ Visualizar para conferência\n",
    "display(transacoes_enriquecidas)\n",
    "\n"
   ]
  },
  {
   "cell_type": "code",
   "execution_count": 0,
   "metadata": {
    "application/vnd.databricks.v1+cell": {
     "cellMetadata": {
      "byteLimit": 2048000,
      "rowLimit": 10000
     },
     "inputWidgets": {},
     "nuid": "b33ad70c-a7fa-4a3c-8280-6b3c63cda3a5",
     "showTitle": false,
     "tableResultSettingsMap": {},
     "title": ""
    },
    "jupyter": {
     "outputs_hidden": true
    }
   },
   "outputs": [],
   "source": [
    "transacoes_enriquecidas.printSchema()"
   ]
  }
 ],
 "metadata": {
  "application/vnd.databricks.v1+notebook": {
   "computePreferences": null,
   "dashboards": [],
   "environmentMetadata": {
    "base_environment": "",
    "environment_version": "2"
   },
   "inputWidgetPreferences": null,
   "language": "python",
   "notebookMetadata": {
    "pythonIndentUnit": 4
   },
   "notebookName": "(Clone) Silver_SavanaTech",
   "widgets": {}
  },
  "language_info": {
   "name": "python"
  }
 },
 "nbformat": 4,
 "nbformat_minor": 0
}
