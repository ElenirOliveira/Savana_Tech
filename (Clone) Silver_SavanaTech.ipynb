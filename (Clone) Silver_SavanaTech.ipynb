{
 "cells": [
  {
   "cell_type": "code",
   "execution_count": 0,
   "metadata": {
    "application/vnd.databricks.v1+cell": {
     "cellMetadata": {
      "byteLimit": 2048000,
      "rowLimit": 10000
     },
     "inputWidgets": {},
     "nuid": "3e05bf9e-6b1b-4ccb-acc5-829d39243ec4",
     "showTitle": false,
     "tableResultSettingsMap": {},
     "title": ""
    }
   },
   "outputs": [],
   "source": [
    "spark.sql(\"USE CATALOG adb_cliente_savana_prd\")\n",
    "meu_nome = \"elenir\"\n",
    "\n",
    "bronze_transacoes = spark.table(f\"elenir_bronze.transacoes\")\n"
   ]
  },
  {
   "cell_type": "code",
   "execution_count": 0,
   "metadata": {
    "application/vnd.databricks.v1+cell": {
     "cellMetadata": {
      "byteLimit": 2048000,
      "rowLimit": 10000
     },
     "inputWidgets": {},
     "nuid": "f89acdf4-de9f-46a9-ba4b-6b2226ab9ac6",
     "showTitle": false,
     "tableResultSettingsMap": {},
     "title": ""
    }
   },
   "outputs": [],
   "source": [
    "bronze_transacoes.display()"
   ]
  },
  {
   "cell_type": "code",
   "execution_count": 0,
   "metadata": {
    "application/vnd.databricks.v1+cell": {
     "cellMetadata": {
      "byteLimit": 2048000,
      "rowLimit": 10000
     },
     "inputWidgets": {},
     "nuid": "57049eab-c5aa-455f-87da-362745e1c989",
     "showTitle": false,
     "tableResultSettingsMap": {},
     "title": ""
    }
   },
   "outputs": [],
   "source": [
    "from pyspark.sql.functions import col, lower, trim, regexp_replace\n",
    "\n",
    "silver_transacoes = bronze_transacoes \\\n",
    "    .withColumn(\"id\", col(\"_id.oid\")) \\\n",
    "    .withColumn(\"id\", regexp_replace(col(\"id\"), \"[-_:\\\\\\\\s'\\\\\\\\/().$!@]\", \"\")) \\\n",
    "    .withColumn(\"Meio_de_Pgmto\", lower(trim(col(\"Meio_de_Pgmto\")))) \\\n",
    "    .withColumn(\"Tipo\", lower(trim(col(\"Tipo\")))) \\\n",
    "    .withColumn(\"oid\", col(\"_id.oid\")) \\\n",
    "    .drop(\"_id\") \\\n",
    "    .dropna(subset=[\"ID_Cliente\", \"ID_Transacao\", \"Valor\", \"Meio_de_Pgmto\", \"Tipo\", \"id\"])\n",
    "\n"
   ]
  },
  {
   "cell_type": "code",
   "execution_count": 0,
   "metadata": {
    "application/vnd.databricks.v1+cell": {
     "cellMetadata": {
      "byteLimit": 2048000,
      "rowLimit": 10000
     },
     "inputWidgets": {},
     "nuid": "19816ec2-191a-4099-b2f4-c290dbaa4517",
     "showTitle": false,
     "tableResultSettingsMap": {},
     "title": ""
    }
   },
   "outputs": [],
   "source": [
    "bronze_transacoes.printSchema()\n"
   ]
  },
  {
   "cell_type": "code",
   "execution_count": 0,
   "metadata": {
    "application/vnd.databricks.v1+cell": {
     "cellMetadata": {
      "byteLimit": 2048000,
      "rowLimit": 10000
     },
     "inputWidgets": {},
     "nuid": "401cfdf5-909d-4093-af52-488802822f89",
     "showTitle": false,
     "tableResultSettingsMap": {},
     "title": ""
    }
   },
   "outputs": [],
   "source": [
    "# Exemplo de padronização simples (pode expandir com mais regras)\n",
    "silver_transacoes = silver_transacoes.replace({\n",
    "    \"credito\": \"cartao de crédito\",\n",
    "    \"debito\": \"cartao de débito\",\n",
    "    \"pix\": \"pix\"\n",
    "}, subset=[\"Meio_de_Pgmto\"])"
   ]
  },
  {
   "cell_type": "code",
   "execution_count": 0,
   "metadata": {
    "application/vnd.databricks.v1+cell": {
     "cellMetadata": {
      "byteLimit": 2048000,
      "rowLimit": 10000
     },
     "inputWidgets": {},
     "nuid": "6d2024d5-9cc7-46c3-b172-46d86a5457ca",
     "showTitle": false,
     "tableResultSettingsMap": {},
     "title": ""
    }
   },
   "outputs": [],
   "source": [
    "silver_transacoes.write.mode(\"overwrite\").saveAsTable(f\"elenir_silver.transacoes_tratadas\")\n"
   ]
  },
  {
   "cell_type": "code",
   "execution_count": 0,
   "metadata": {
    "application/vnd.databricks.v1+cell": {
     "cellMetadata": {
      "byteLimit": 2048000,
      "rowLimit": 10000
     },
     "inputWidgets": {},
     "nuid": "bbc8cfb9-7508-48a7-9309-592364e6c6b9",
     "showTitle": false,
     "tableResultSettingsMap": {},
     "title": ""
    }
   },
   "outputs": [],
   "source": [
    "display(silver_transacoes)"
   ]
  },
  {
   "cell_type": "code",
   "execution_count": 0,
   "metadata": {
    "application/vnd.databricks.v1+cell": {
     "cellMetadata": {
      "byteLimit": 2048000,
      "rowLimit": 10000
     },
     "inputWidgets": {},
     "nuid": "972aad82-039f-497a-ac74-10a4beea165e",
     "showTitle": false,
     "tableResultSettingsMap": {},
     "title": ""
    }
   },
   "outputs": [],
   "source": [
    "# SILVER - Enriquecimento\n",
    "bronze_clientes = spark.table(\"adb_cliente_savana_prd.elenir_bronze.clientes\")\n",
    "bronze_transacoes = spark.table(\"adb_cliente_savana_prd.elenir_bronze.transacoes\")\n",
    "\n",
    "# Join e limpeza\n",
    "transacoes_enriquecidas = bronze_transacoes.join(\n",
    "    bronze_clientes,\n",
    "    bronze_transacoes[\"cliente_id\"] == bronze_clientes[\"id\"],\n",
    "    \"left\"\n",
    ").drop(\"id\")  # Remove duplicidade se necessário\n",
    "\n",
    "# Salvar na camada Silver\n",
    "transacoes_enriquecidas.write.mode(\"overwrite\").saveAsTable(\"savana.elenir.silver.transacoes_enriquecidas\")\n"
   ]
  }
 ],
 "metadata": {
  "application/vnd.databricks.v1+notebook": {
   "computePreferences": null,
   "dashboards": [],
   "environmentMetadata": {
    "base_environment": "",
    "environment_version": "2"
   },
   "inputWidgetPreferences": null,
   "language": "python",
   "notebookMetadata": {
    "pythonIndentUnit": 4
   },
   "notebookName": "(Clone) Silver_SavanaTech",
   "widgets": {}
  },
  "language_info": {
   "name": "python"
  }
 },
 "nbformat": 4,
 "nbformat_minor": 0
}
