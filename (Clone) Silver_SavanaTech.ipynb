{
 "cells": [
  {
   "cell_type": "code",
   "execution_count": 0,
   "metadata": {
    "application/vnd.databricks.v1+cell": {
     "cellMetadata": {
      "byteLimit": 2048000,
      "rowLimit": 10000
     },
     "inputWidgets": {},
     "nuid": "3e05bf9e-6b1b-4ccb-acc5-829d39243ec4",
     "showTitle": false,
     "tableResultSettingsMap": {},
     "title": ""
    }
   },
   "outputs": [],
   "source": [
    "# Selecionar catálogo\n",
    "spark.sql(\"USE CATALOG adb_cliente_savana_prd\")\n",
    "meu_nome = \"elenir\"\n"
   ]
  },
  {
   "cell_type": "code",
   "execution_count": 0,
   "metadata": {
    "application/vnd.databricks.v1+cell": {
     "cellMetadata": {
      "byteLimit": 2048000,
      "rowLimit": 10000
     },
     "inputWidgets": {},
     "nuid": "f89acdf4-de9f-46a9-ba4b-6b2226ab9ac6",
     "showTitle": false,
     "tableResultSettingsMap": {},
     "title": ""
    }
   },
   "outputs": [],
   "source": [
    "# Carregar tabelas da Bronze\n",
    "bronze_transacoes = spark.table(f\"{meu_nome}_bronze.transacoes\")\n",
    "bronze_clientes = spark.table(f\"{meu_nome}_bronze.clientes\")\n",
    "\n",
    "\n",
    "# Visualizar dados\n",
    "display(bronze_transacoes)\n",
    "display(bronze_clientes)\n",
    "bronze_clientes.printSchema()"
   ]
  },
  {
   "cell_type": "code",
   "execution_count": 0,
   "metadata": {
    "application/vnd.databricks.v1+cell": {
     "cellMetadata": {
      "byteLimit": 2048000,
      "rowLimit": 10000
     },
     "inputWidgets": {},
     "nuid": "57049eab-c5aa-455f-87da-362745e1c989",
     "showTitle": false,
     "tableResultSettingsMap": {},
     "title": ""
    }
   },
   "outputs": [],
   "source": [
    "from pyspark.sql.functions import col, lower, trim, regexp_replace, when\n",
    "\n",
    "# ✔️ Tratamento e normalização\n",
    "silver_transacoes = bronze_transacoes \\\n",
    "    .withColumn(\"id\", regexp_replace(col(\"_id.oid\"), \"[-_:\\\\s'\\\\/().$!@]\", \"\")) \\\n",
    "    .withColumn(\"oid\", col(\"_id.oid\")) \\\n",
    "    .withColumn(\"Meio_de_Pgmto\", when(col(\"Meio_de_Pgmto\").isNull() | (trim(col(\"Meio_de_Pgmto\")) == \"\"), \"não informado\")\n",
    "                .otherwise(lower(trim(col(\"Meio_de_Pgmto\"))))) \\\n",
    "    .withColumn(\"Tipo\", when(col(\"Tipo\").isNull() | (trim(col(\"Tipo\")) == \"\"), \"não informado\")\n",
    "                .otherwise(lower(trim(col(\"Tipo\"))))) \\\n",
    "    .drop(\"_id\") \\\n",
    "    .dropna(subset=[\"ID_Cliente\", \"ID_Transacao\", \"Valor\", \"Meio_de_Pgmto\", \"Tipo\", \"id\"]) \\\n",
    "    .dropDuplicates([\"ID_Transacao\", \"ID_Cliente\", \"Valor\", \"Meio_de_Pgmto\", \"Tipo\"])\n",
    "\n",
    "# ✔️ Normalização dos meios de pagamento\n",
    "silver_transacoes = silver_transacoes.replace({\n",
    "    \"credito\": \"cartao de crédito\",\n",
    "    \"crédito\": \"cartao de crédito\",\n",
    "    \"debito\": \"cartao de débito\",\n",
    "    \"débito\": \"cartao de débito\",\n",
    "    \"pix\": \"pix\"\n",
    "}, subset=[\"Meio_de_Pgmto\"])\n",
    "\n",
    "# ✔️ Escrita na Silver\n",
    "silver_transacoes.write.format(\"delta\") \\\n",
    "    .mode(\"overwrite\") \\\n",
    "    .option(\"overwriteSchema\", \"true\") \\\n",
    "    .saveAsTable(f\"{meu_nome}_silver.transacoes_tratadas\")\n",
    "\n",
    "# ✔️ Conferindo dados\n",
    "display(silver_transacoes)\n",
    "\n"
   ]
  },
  {
   "cell_type": "code",
   "execution_count": 0,
   "metadata": {
    "application/vnd.databricks.v1+cell": {
     "cellMetadata": {
      "byteLimit": 2048000,
      "rowLimit": 10000
     },
     "inputWidgets": {},
     "nuid": "03579fa0-7502-4333-be78-4172657fb17d",
     "showTitle": false,
     "tableResultSettingsMap": {},
     "title": ""
    }
   },
   "outputs": [],
   "source": [
    "from pyspark.sql.functions import (\n",
    "    col, trim, initcap, regexp_replace, when, length\n",
    ")\n",
    "\n",
    "# ✔️ Dicionário de correção de cidades\n",
    "cidade_correcoes = {\n",
    "    \"So Paulo\": \"São Paulo\",\n",
    "    \"Joo Pessoa\": \"João Pessoa\",\n",
    "    \"Macap\": \"Macapá\",\n",
    "    \"Braslia\": \"Brasília\",\n",
    "    \"So Luz\": \"São Luís\",\n",
    "    \"Vitria\": \"Vitória\"\n",
    "}\n",
    "\n",
    "# ✔️ Dicionário de correção de nomes\n",
    "nome_correcoes = {\n",
    "    \"Joo Souza\": \"João Souza\",\n",
    "    \"Lcia Azevedo\": \"Lúcia Azevedo\",\n",
    "    \"Julina Lima\": \"Juliana Lima\",\n",
    "    \"Carla Per\": \"Carla Pereira\",\n",
    "    \"Sandar Carvalho\": \"Sandra Carvalho\",\n",
    "    \"Andr Barros\": \"André Barros\",\n",
    "    \"Patrcia Gomes\": \"Patrícia Gomes\"\n",
    "}\n",
    "\n",
    "# ✔️ Pipeline de tratamento\n",
    "silver_clientes = bronze_clientes \\\n",
    "    .withColumn(\"Nome\", when(col(\"Nome\").isNull() | (trim(col(\"Nome\")) == \"\"), \"Não informado\")\n",
    "                .otherwise(initcap(trim(col(\"Nome\"))))) \\\n",
    "    .withColumn(\"Cidade\", when(col(\"Cidade\").isNull() | (trim(col(\"Cidade\")) == \"\"), \"Não informado\")\n",
    "                .otherwise(initcap(trim(col(\"Cidade\"))))) \\\n",
    "    .withColumn(\"CPF\", regexp_replace(trim(when(col(\"CPF\").isNull(), \"00000000000\")\n",
    "                .otherwise(col(\"CPF\"))), \"[^0-9]\", \"\")) \\\n",
    "    .withColumn(\"Agencia\", regexp_replace(trim(when(col(\"Agencia\").isNull(), \"0000\")\n",
    "                .otherwise(col(\"Agencia\"))), \"[^0-9A-Za-z]\", \"\")) \\\n",
    "    .withColumn(\"CPF_valido\", when(length(col(\"CPF\")) == 11, True).otherwise(False)) \\\n",
    "    .dropDuplicates([\"ID\", \"CPF\"])\n",
    "\n",
    "# ✔️ Aplicando as correções\n",
    "silver_clientes = silver_clientes \\\n",
    "    .replace(to_replace=cidade_correcoes, subset=[\"Cidade\"]) \\\n",
    "    .replace(to_replace=nome_correcoes, subset=[\"Nome\"])\n",
    "\n",
    "# ✔️ Preencher valores nulos restantes\n",
    "silver_clientes = silver_clientes.fillna({\n",
    "    \"Nome\": \"Não informado\",\n",
    "    \"Cidade\": \"Não informado\",\n",
    "    \"CPF\": \"00000000000\",\n",
    "    \"Agencia\": \"0000\"\n",
    "})\n",
    "\n",
    "# ✔️ Escrita no Silver\n",
    "silver_clientes.write.format(\"delta\") \\\n",
    "    .mode(\"overwrite\") \\\n",
    "    .option(\"overwriteSchema\", \"true\") \\\n",
    "    .saveAsTable(f\"{meu_nome}_silver.clientes_tratados\")\n",
    "\n",
    "# ✔️ Conferindo os dados tratados\n",
    "display(silver_clientes)\n"
   ]
  },
  {
   "cell_type": "code",
   "execution_count": 0,
   "metadata": {
    "application/vnd.databricks.v1+cell": {
     "cellMetadata": {
      "byteLimit": 2048000,
      "rowLimit": 10000
     },
     "inputWidgets": {},
     "nuid": "ee09c0f9-6af1-43da-a2f5-7d4f7a0cca87",
     "showTitle": false,
     "tableResultSettingsMap": {},
     "title": ""
    }
   },
   "outputs": [],
   "source": [
    "from pyspark.sql.functions import year, month, dayofmonth, col, when, current_date\n",
    "\n",
    "# ✔️ Carregar tabelas tratadas da Silver\n",
    "clientes_silver = spark.table(\"adb_cliente_savana_prd.elenir_silver.clientes_tratados\")\n",
    "transacoes_silver = spark.table(\"adb_cliente_savana_prd.elenir_silver.transacoes_tratadas\")\n",
    "\n",
    "\n",
    "# ✔️ Realizar o JOIN para enriquecimento\n",
    "transacoes_enriquecidas = transacoes_silver.join(\n",
    "    clientes_silver,\n",
    "    transacoes_silver[\"ID_Cliente\"] == clientes_silver[\"ID\"],\n",
    "    \"left\"\n",
    ").drop(clientes_silver[\"ID\"])\n",
    "\n",
    "\n",
    "# ✔️ Adicionar Ano, Mês e Dia da Data de Criação do Cliente\n",
    "transacoes_enriquecidas = transacoes_enriquecidas.withColumn(\n",
    "    \"Ano\", year(clientes_silver[\"DataCriacao\"])\n",
    ").withColumn(\n",
    "    \"Mes\", month(clientes_silver[\"DataCriacao\"])\n",
    ").withColumn(\n",
    "    \"Dia\", dayofmonth(clientes_silver[\"DataCriacao\"])\n",
    ")\n",
    "\n",
    "# ✔️ Adicionar status de data (Futura ou Realizada) com base na data da transação\n",
    "transacoes_enriquecidas = transacoes_enriquecidas.withColumn(\n",
    "    \"status_data\",\n",
    "    when(col(\"DataCriacao\") > current_date(), \"Futura\").otherwise(\"Realizada\")\n",
    ")\n",
    "\n",
    "# ✔️ Salvar na camada Silver enriquecida\n",
    "transacoes_enriquecidas.write.format(\"delta\") \\\n",
    "    .mode(\"overwrite\") \\\n",
    "    .option(\"overwriteSchema\", \"true\") \\\n",
    "    .saveAsTable(\"adb_cliente_savana_prd.elenir_silver.transacoes_enriquecidas\")\n",
    "\n",
    "# ✔️ Visualizar para conferência\n",
    "display(transacoes_enriquecidas)\n"
   ]
  },
  {
   "cell_type": "code",
   "execution_count": 0,
   "metadata": {
    "application/vnd.databricks.v1+cell": {
     "cellMetadata": {
      "byteLimit": 2048000,
      "rowLimit": 10000
     },
     "inputWidgets": {},
     "nuid": "b33ad70c-a7fa-4a3c-8280-6b3c63cda3a5",
     "showTitle": false,
     "tableResultSettingsMap": {},
     "title": ""
    }
   },
   "outputs": [],
   "source": [
    "transacoes_enriquecidas.printSchema()"
   ]
  }
 ],
 "metadata": {
  "application/vnd.databricks.v1+notebook": {
   "computePreferences": null,
   "dashboards": [],
   "environmentMetadata": {
    "base_environment": "",
    "environment_version": "2"
   },
   "inputWidgetPreferences": null,
   "language": "python",
   "notebookMetadata": {
    "mostRecentlyExecutedCommandWithImplicitDF": {
     "commandId": 5982501655201131,
     "dataframes": [
      "_sqldf"
     ]
    },
    "pythonIndentUnit": 4
   },
   "notebookName": "(Clone) Silver_SavanaTech",
   "widgets": {}
  },
  "language_info": {
   "name": "python"
  }
 },
 "nbformat": 4,
 "nbformat_minor": 0
}
