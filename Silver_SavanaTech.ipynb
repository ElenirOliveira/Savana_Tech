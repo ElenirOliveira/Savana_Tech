{
 "cells": [
  {
   "cell_type": "code",
   "execution_count": 0,
   "metadata": {
    "application/vnd.databricks.v1+cell": {
     "cellMetadata": {
      "byteLimit": 2048000,
      "rowLimit": 10000
     },
     "inputWidgets": {},
     "nuid": "927fceb4-0533-43a4-b457-08a8ab858454",
     "showTitle": false,
     "tableResultSettingsMap": {},
     "title": ""
    }
   },
   "outputs": [],
   "source": [
    "spark.sql(\"USE CATALOG adb_cliente_savana_prd\")\n"
   ]
  },
  {
   "cell_type": "code",
   "execution_count": 0,
   "metadata": {
    "application/vnd.databricks.v1+cell": {
     "cellMetadata": {
      "byteLimit": 2048000,
      "rowLimit": 10000
     },
     "inputWidgets": {},
     "nuid": "65bb1376-6a59-4584-91c9-5e9965dfda05",
     "showTitle": false,
     "tableResultSettingsMap": {},
     "title": ""
    }
   },
   "outputs": [],
   "source": [
    "bronze_transacoes = spark.table(\"savana_elenir_bronze.transacoes\")\n",
    "bronze_clientes = spark.table(\"savana_elenir_bronze.clientes\")\n"
   ]
  },
  {
   "cell_type": "code",
   "execution_count": 0,
   "metadata": {
    "application/vnd.databricks.v1+cell": {
     "cellMetadata": {
      "byteLimit": 2048000,
      "rowLimit": 10000
     },
     "inputWidgets": {},
     "nuid": "3c753324-3788-4367-99da-2cc853c9969e",
     "showTitle": false,
     "tableResultSettingsMap": {},
     "title": ""
    }
   },
   "outputs": [],
   "source": [
    "from pyspark.sql.functions import col, lower, trim, regexp_replace\n",
    "\n",
    "# Tratamento de Transações\n",
    "silver_transacoes = bronze_transacoes \\\n",
    "    .withColumn(\"id\", regexp_replace(col(\"_id.oid\"), \"[-_:\\\\s'\\\\/().$!@]\", \"\")) \\\n",
    "    .withColumn(\"oid\", col(\"_id.oid\")) \\\n",
    "    .withColumn(\"Meio_de_Pgmto\", lower(trim(col(\"Meio_de_Pgmto\")))) \\\n",
    "    .withColumn(\"Tipo\", lower(trim(col(\"Tipo\")))) \\\n",
    "    .drop(\"_id\") \\\n",
    "    .dropna(subset=[\"ID_Cliente\", \"ID_Transacao\", \"Valor\", \"Meio_de_Pgmto\", \"Tipo\", \"id\"]) \\\n",
    "    .dropDuplicates([\"ID_Transacao\", \"ID_Cliente\", \"Valor\", \"Meio_de_Pgmto\", \"Tipo\"])\n",
    "\n",
    "# Padronização dos meios de pagamento\n",
    "silver_transacoes = silver_transacoes.replace({\n",
    "    \"credito\": \"cartao de crédito\",\n",
    "    \"crédito\": \"cartao de crédito\",\n",
    "    \"debito\": \"cartao de débito\",\n",
    "    \"débito\": \"cartao de débito\",\n",
    "    \"pix\": \"pix\"\n",
    "}, subset=[\"Meio_de_Pgmto\"])\n",
    "\n",
    "# Salvar\n",
    "silver_transacoes.write.mode(\"overwrite\").saveAsTable(\"savana_elenir_silver.transacoes_tratadas\")\n"
   ]
  },
  {
   "cell_type": "code",
   "execution_count": 0,
   "metadata": {
    "application/vnd.databricks.v1+cell": {
     "cellMetadata": {
      "byteLimit": 2048000,
      "rowLimit": 10000
     },
     "inputWidgets": {},
     "nuid": "466d11b9-9cc2-4ae2-8f82-0458b75eb8be",
     "showTitle": false,
     "tableResultSettingsMap": {},
     "title": ""
    }
   },
   "outputs": [],
   "source": [
    "from pyspark.sql.functions import col, trim, initcap, regexp_replace, when, length, to_date, lit\n",
    "\n",
    "# Tratamento de Clientes\n",
    "silver_clientes = bronze_clientes \\\n",
    "    .withColumn(\"Nome\", initcap(trim(col(\"Nome\")))) \\\n",
    "    .withColumn(\"Cidade\", initcap(trim(col(\"Cidade\")))) \\\n",
    "    .withColumn(\"CPF\", regexp_replace(trim(col(\"CPF\")), \"[^0-9]\", \"\")) \\\n",
    "    .withColumn(\"Agencia\", regexp_replace(trim(col(\"Agencia\")), \"[^0-9A-Za-z]\", \"\")) \\\n",
    "    .withColumn(\n",
    "        \"dt_transacao\", \n",
    "        when(col(\"dt_transacao\").isNull(), to_date(lit(\"1900-01-01\")))\n",
    "        .otherwise(col(\"dt_transacao\"))\n",
    "    ) \\\n",
    "    .withColumn(\n",
    "        \"CPF_valido\", \n",
    "        when(length(col(\"CPF\")) == 11, True).otherwise(False)\n",
    "    ) \\\n",
    "    .fillna({\n",
    "        \"Nome\": \"Não informado\",\n",
    "        \"Cidade\": \"Não informado\",\n",
    "        \"CPF\": \"00000000000\",\n",
    "        \"Agencia\": \"0000\",\n",
    "        \"Transacao\": -1\n",
    "    }) \\\n",
    "    .dropDuplicates([\"ID\", \"CPF\"])\n",
    "\n",
    "# Salvar\n",
    "silver_clientes.write.mode(\"overwrite\").saveAsTable(\"savana_elenir_silver.clientes_tratados\")\n"
   ]
  },
  {
   "cell_type": "code",
   "execution_count": 0,
   "metadata": {
    "application/vnd.databricks.v1+cell": {
     "cellMetadata": {
      "byteLimit": 2048000,
      "rowLimit": 10000
     },
     "inputWidgets": {},
     "nuid": "dd2f6afe-5a76-411d-8a10-8fb95c38f5fc",
     "showTitle": false,
     "tableResultSettingsMap": {},
     "title": ""
    },
    "jupyter": {
     "source_hidden": true
    }
   },
   "outputs": [],
   "source": [
    "# Carregar tabelas tratadas\n",
    "silver_clientes = spark.table(\"savana_elenir_silver.clientes_tratados\")\n",
    "silver_transacoes = spark.table(\"savana_elenir_silver.transacoes_tratadas\")\n",
    "\n",
    "# Join para enriquecimento\n",
    "transacoes_enriquecidas = (\n",
    "    silver_transacoes.join(\n",
    "        silver_clientes,\n",
    "        silver_transacoes[\"ID_Cliente\"] == silver_clientes[\"ID\"],\n",
    "        how=\"left\"\n",
    "    )\n",
    "    .drop(silver_clientes[\"ID\"])\n",
    ")\n",
    "\n",
    "# Salvar a tabela enriquecida\n",
    "spark.sql(\"DROP TABLE IF EXISTS savana_elenir_silver.transacoes_enriquecidas\")\n",
    "\n",
    "transacoes_enriquecidas.write.mode(\"overwrite\").saveAsTable(\"savana_elenir_silver.transacoes_enriquecidas\")\n",
    "\n",
    "# Visualizar\n",
    "display(transacoes_enriquecidas)\n"
   ]
  },
  {
   "cell_type": "code",
   "execution_count": 0,
   "metadata": {
    "application/vnd.databricks.v1+cell": {
     "cellMetadata": {
      "byteLimit": 2048000,
      "rowLimit": 10000
     },
     "inputWidgets": {},
     "nuid": "e2303ec5-8889-4903-829e-c78315a6fb7d",
     "showTitle": false,
     "tableResultSettingsMap": {},
     "title": ""
    }
   },
   "outputs": [],
   "source": [
    "# Selecionar catálogo\n",
    "spark.sql(\"USE CATALOG adb_cliente_savana_prd\")\n",
    "meu_nome = \"elenir\"\n",
    "\n"
   ]
  },
  {
   "cell_type": "code",
   "execution_count": 0,
   "metadata": {
    "application/vnd.databricks.v1+cell": {
     "cellMetadata": {
      "byteLimit": 2048000,
      "rowLimit": 10000
     },
     "inputWidgets": {},
     "nuid": "faf0a562-c183-4bda-af9b-4c70b6504efc",
     "showTitle": false,
     "tableResultSettingsMap": {},
     "title": ""
    }
   },
   "outputs": [],
   "source": [
    "from pyspark.sql.functions import col, lower, trim, regexp_replace\n",
    "\n",
    "# Tratamento - TRANSACOES\n",
    "silver_transacoes = bronze_transacoes \\\n",
    "    .withColumn(\"id\", col(\"_id.oid\")) \\\n",
    "    .withColumn(\"id\", regexp_replace(col(\"id\"), \"[-_:\\\\s'\\\\/().$!@]\", \"\")) \\\n",
    "    .withColumn(\"Meio_de_Pgmto\", lower(trim(col(\"Meio_de_Pgmto\")))) \\\n",
    "    .withColumn(\"Tipo\", lower(trim(col(\"Tipo\")))) \\\n",
    "    .withColumn(\"oid\", col(\"_id.oid\")) \\\n",
    "    .drop(\"_id\") \\\n",
    "    .dropna(subset=[\"ID_Cliente\", \"ID_Transacao\", \"Valor\", \"Meio_de_Pgmto\", \"Tipo\", \"id\"]) \\\n",
    "    .dropDuplicates([\"ID_Transacao\", \"ID_Cliente\", \"Valor\", \"Meio_de_Pgmto\", \"Tipo\"])\n",
    "\n",
    "silver_transacoes = silver_transacoes.replace({\n",
    "    \"credito\": \"cartao de crédito\",\n",
    "    \"crédito\": \"cartao de crédito\",\n",
    "    \"debito\": \"cartao de débito\",\n",
    "    \"débito\": \"cartao de débito\",\n",
    "    \"pix\": \"pix\"\n",
    "}, subset=[\"Meio_de_Pgmto\"])\n",
    "\n",
    "silver_transacoes.write.mode(\"overwrite\").saveAsTable(f\"{meu_nome}silver.transacoes_tratadas\")"
   ]
  },
  {
   "cell_type": "code",
   "execution_count": 0,
   "metadata": {
    "application/vnd.databricks.v1+cell": {
     "cellMetadata": {
      "byteLimit": 2048000,
      "rowLimit": 10000
     },
     "inputWidgets": {},
     "nuid": "f2a2e934-d5d6-4dbd-84f5-a4283d89e952",
     "showTitle": false,
     "tableResultSettingsMap": {},
     "title": ""
    }
   },
   "outputs": [],
   "source": [
    "# ✔️ Importando bibliotecas necessárias\n",
    "from pyspark.sql.functions import col, trim, initcap, regexp_replace, when, length, to_date, lit\n",
    "\n",
    "\n",
    "# ✔️ Tratamento dos dados\n",
    "silver_clientes = bronze_clientes \\\n",
    "    .withColumn(\"Nome\", initcap(trim(col(\"Nome\")))) \\\n",
    "    .withColumn(\"Cidade\", initcap(trim(col(\"Cidade\")))) \\\n",
    "    .withColumn(\"CPF\", regexp_replace(trim(col(\"CPF\")), \"[^0-9]\", \"\")) \\\n",
    "    .withColumn(\"Agencia\", regexp_replace(trim(col(\"Agencia\")), \"[^0-9A-Za-z]\", \"\")) \\\n",
    "    .withColumn(\n",
    "        \"dt_transacao\", \n",
    "        when(col(\"dt_transacao\").isNull(), to_date(lit(\"1900-01-01\")))\n",
    "        .otherwise(col(\"dt_transacao\"))\n",
    "    ) \\\n",
    "    .withColumn(\n",
    "        \"CPF_valido\", \n",
    "        when(length(col(\"CPF\")) == 11, True).otherwise(False)\n",
    "    ) \\\n",
    "    .fillna({\n",
    "        \"Nome\": \"Não informado\",\n",
    "        \"Cidade\": \"Não informado\",\n",
    "        \"CPF\": \"00000000000\",\n",
    "        \"Agencia\": \"0000\",\n",
    "        \"Transacao\": -1\n",
    "    }) \\\n",
    "    .dropDuplicates([\"ID\", \"CPF\"])\n",
    "\n",
    "# ✔️ Salvando na camada Silver (sobrescrevendo)\n",
    "silver_clientes.write.mode(\"overwrite\").saveAsTable(f\"{meu_nome}silver.clientes_tratados\")\n",
    "\n",
    "# ✔️ Visualizando dados para conferência\n",
    "display(silver_clientes)\n"
   ]
  },
  {
   "cell_type": "code",
   "execution_count": 0,
   "metadata": {
    "application/vnd.databricks.v1+cell": {
     "cellMetadata": {
      "byteLimit": 2048000,
      "rowLimit": 10000
     },
     "inputWidgets": {},
     "nuid": "d986ab7d-18cd-4f34-9391-4a8c9521fc1f",
     "showTitle": false,
     "tableResultSettingsMap": {},
     "title": ""
    }
   },
   "outputs": [],
   "source": [
    "silver_clientes.printSchema()"
   ]
  },
  {
   "cell_type": "code",
   "execution_count": 0,
   "metadata": {
    "application/vnd.databricks.v1+cell": {
     "cellMetadata": {
      "byteLimit": 2048000,
      "rowLimit": 10000
     },
     "inputWidgets": {},
     "nuid": "87968cb3-9b8f-4027-902a-dbbdb3ec7ca7",
     "showTitle": false,
     "tableResultSettingsMap": {},
     "title": ""
    }
   },
   "outputs": [],
   "source": [
    "# Enriquecimento\n",
    "\n",
    "silver_clientes = spark.table(f\"{meu_nome}silver.clientes_tratados\")\n",
    "silver_transacoes = spark.table(f\"{meu_nome}silver.transacoes_tratadas\")\n",
    "\n",
    "transacoes_enriquecidas = (\n",
    "    silver_transacoes.join(\n",
    "        silver_clientes,\n",
    "        silver_transacoes[\"ID_Cliente\"] == silver_clientes[\"ID\"],\n",
    "        how=\"left\"\n",
    "    )\n",
    "    .drop(silver_clientes[\"ID\"])\n",
    ")\n",
    "\n",
    "# Dropar a tabela antes de salvar\n",
    "spark.sql(f\"DROP TABLE IF EXISTS {meu_nome}silver.transacoes_enriquecidas\")\n",
    "\n",
    "# Salvar sobrescrevendo \n",
    "transacoes_enriquecidas.write.mode(\"overwrite\").saveAsTable(f\"{meu_nome}silver.transacoes_enriquecidas\")\n",
    "\n",
    "\n",
    "display(transacoes_enriquecidas)"
   ]
  }
 ],
 "metadata": {
  "application/vnd.databricks.v1+notebook": {
   "computePreferences": null,
   "dashboards": [],
   "environmentMetadata": {
    "base_environment": "",
    "environment_version": "2"
   },
   "inputWidgetPreferences": null,
   "language": "python",
   "notebookMetadata": {
    "pythonIndentUnit": 4
   },
   "notebookName": "Silver_SavanaTech",
   "widgets": {}
  },
  "language_info": {
   "name": "python"
  }
 },
 "nbformat": 4,
 "nbformat_minor": 0
}
