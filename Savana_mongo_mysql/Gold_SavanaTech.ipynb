{
 "cells": [
  {
   "cell_type": "code",
   "execution_count": 0,
   "metadata": {
    "application/vnd.databricks.v1+cell": {
     "cellMetadata": {
      "byteLimit": 2048000,
      "rowLimit": 10000
     },
     "inputWidgets": {},
     "nuid": "b9c0e6ae-f87d-4746-a7b9-d79e9b861dd2",
     "showTitle": false,
     "tableResultSettingsMap": {},
     "title": ""
    }
   },
   "outputs": [],
   "source": [
    "-- Selecionar catálogo e schema correto\n",
    "USE CATALOG adb_cliente_savana_prd;\n",
    "USE SCHEMA savana_elenir_gold;"
   ]
  },
  {
   "cell_type": "code",
   "execution_count": 0,
   "metadata": {
    "application/vnd.databricks.v1+cell": {
     "cellMetadata": {
      "byteLimit": 2048000,
      "rowLimit": 10000
     },
     "inputWidgets": {},
     "nuid": "9d32edec-84a6-4149-af4d-ea733939f8ed",
     "showTitle": false,
     "tableResultSettingsMap": {},
     "title": ""
    }
   },
   "outputs": [],
   "source": [
    "-- ✅ 1. Quantidade de transações por mês por usuário\n",
    "CREATE OR REPLACE TABLE savana_elenir_gold.qtd_transacoes_por_mes AS\n",
    "SELECT\n",
    "  ID_Cliente,\n",
    "  DATE_FORMAT(dt_transacao, 'yyyy-MM') AS mes,\n",
    "  COUNT(*) AS qtd_transacoes\n",
    "FROM savana_elenir_silver.transacoes_enriquecidas\n",
    "GROUP BY ID_Cliente, DATE_FORMAT(dt_transacao, 'yyyy-MM');"
   ]
  },
  {
   "cell_type": "code",
   "execution_count": 0,
   "metadata": {
    "application/vnd.databricks.v1+cell": {
     "cellMetadata": {
      "byteLimit": 2048000,
      "rowLimit": 10000
     },
     "inputWidgets": {},
     "nuid": "708847fd-b15e-47e2-abce-9ce65e8bb861",
     "showTitle": false,
     "tableResultSettingsMap": {},
     "title": ""
    }
   },
   "outputs": [],
   "source": [
    "CREATE OR REPLACE TABLE adb_cliente_savana_prd.savana_elenir_gold.transacoes_por_cidade AS\n",
    "SELECT\n",
    "  Cidade,\n",
    "  COUNT(ID_Transacao) AS Total_Transacoes\n",
    "FROM teste_join\n",
    "WHERE Cidade IS NOT NULL\n",
    "GROUP BY Cidade;\n"
   ]
  },
  {
   "cell_type": "code",
   "execution_count": 0,
   "metadata": {
    "application/vnd.databricks.v1+cell": {
     "cellMetadata": {
      "byteLimit": 2048000,
      "rowLimit": 10000
     },
     "inputWidgets": {},
     "nuid": "5bca79c7-0ef3-4e7c-b1f6-ffa435872b1a",
     "showTitle": false,
     "tableResultSettingsMap": {},
     "title": ""
    }
   },
   "outputs": [],
   "source": [
    "CREATE OR REPLACE TABLE adb_cliente_savana_prd.savana_elenir_gold.ultima_transacao_cliente AS\n",
    "SELECT\n",
    "  ID_Cliente,\n",
    "  MAX(dt_transacao) AS Data_Ultima_Transacao\n",
    "FROM teste_join\n",
    "GROUP BY ID_Cliente;\n"
   ]
  },
  {
   "cell_type": "code",
   "execution_count": 0,
   "metadata": {
    "application/vnd.databricks.v1+cell": {
     "cellMetadata": {
      "byteLimit": 2048000,
      "rowLimit": 10000
     },
     "inputWidgets": {},
     "nuid": "c856df9a-d1f3-4f44-adac-54f97a66a412",
     "showTitle": false,
     "tableResultSettingsMap": {},
     "title": ""
    }
   },
   "outputs": [],
   "source": [
    "CREATE OR REPLACE TABLE adb_cliente_savana_prd.savana_elenir_gold.transacoes_por_cliente_mes AS\n",
    "SELECT\n",
    "  ID_Cliente,\n",
    "  MONTH(dt_transacao) AS Mes,\n",
    "  YEAR(dt_transacao) AS Ano,\n",
    "  COUNT(ID_Transacao) AS Total_Transacoes\n",
    "FROM teste_join\n",
    "GROUP BY ID_Cliente, MONTH(dt_transacao), YEAR(dt_transacao);\n"
   ]
  },
  {
   "cell_type": "code",
   "execution_count": 0,
   "metadata": {
    "application/vnd.databricks.v1+cell": {
     "cellMetadata": {
      "byteLimit": 2048000,
      "rowLimit": 10000
     },
     "inputWidgets": {},
     "nuid": "b6c46048-8154-4edf-94fd-2d619db32f0a",
     "showTitle": false,
     "tableResultSettingsMap": {},
     "title": ""
    }
   },
   "outputs": [],
   "source": [
    "-- ✅ 2. Valor total de transações por mês por usuário\n",
    "CREATE OR REPLACE TABLE savana_elenir_gold.valor_total_por_mes AS\n",
    "SELECT\n",
    "  ID_Cliente,\n",
    "  DATE_FORMAT(dt_transacao, 'yyyy-MM') AS mes,\n",
    "  SUM(Valor) AS valor_total_transacoes\n",
    "FROM savana_elenir_silver.transacoes_enriquecidas\n",
    "GROUP BY ID_Cliente, DATE_FORMAT(dt_transacao, 'yyyy-MM');"
   ]
  },
  {
   "cell_type": "code",
   "execution_count": 0,
   "metadata": {
    "application/vnd.databricks.v1+cell": {
     "cellMetadata": {
      "byteLimit": 2048000,
      "rowLimit": 10000
     },
     "inputWidgets": {},
     "nuid": "fd1076c6-2a38-407a-9165-6f656877e4b6",
     "showTitle": false,
     "tableResultSettingsMap": {},
     "title": ""
    }
   },
   "outputs": [],
   "source": [
    "-- ✅ 3. Volume de transações por cidade\n",
    "CREATE OR REPLACE TABLE savana_elenir_gold.volume_por_cidade AS\n",
    "SELECT\n",
    "  Cidade,\n",
    "  COUNT(*) AS volume_transacoes\n",
    "FROM savana_elenir_silver.transacoes_enriquecidas\n",
    "GROUP BY Cidade;"
   ]
  },
  {
   "cell_type": "code",
   "execution_count": 0,
   "metadata": {
    "application/vnd.databricks.v1+cell": {
     "cellMetadata": {
      "byteLimit": 2048000,
      "rowLimit": 10000
     },
     "inputWidgets": {},
     "nuid": "3b6feb39-d83b-4225-90dd-0381a8a7e2da",
     "showTitle": false,
     "tableResultSettingsMap": {},
     "title": ""
    }
   },
   "outputs": [],
   "source": [
    "-- ✅ 4. Última transação por cliente\n",
    "CREATE OR REPLACE TABLE savana_elenir_gold.ultima_transacao_por_cliente AS\n",
    "SELECT\n",
    "  ID_Cliente,\n",
    "  MAX(dt_transacao) AS ultima_transacao\n",
    "FROM savana_elenir_silver.transacoes_enriquecidas\n",
    "GROUP BY ID_Cliente;"
   ]
  },
  {
   "cell_type": "code",
   "execution_count": 0,
   "metadata": {
    "application/vnd.databricks.v1+cell": {
     "cellMetadata": {
      "byteLimit": 2048000,
      "rowLimit": 10000
     },
     "inputWidgets": {},
     "nuid": "6f86c5bd-b585-40b9-840b-971ec3615509",
     "showTitle": false,
     "tableResultSettingsMap": {},
     "title": ""
    }
   },
   "outputs": [],
   "source": [
    "-- ✅ 5. Conferir tabelas criadas\n",
    "SHOW TABLES IN savana_elenir_gold;"
   ]
  },
  {
   "cell_type": "code",
   "execution_count": 0,
   "metadata": {
    "application/vnd.databricks.v1+cell": {
     "cellMetadata": {
      "byteLimit": 2048000,
      "rowLimit": 10000
     },
     "inputWidgets": {},
     "nuid": "96083490-0ba7-4e1e-b533-204ab0ec9dd4",
     "showTitle": false,
     "tableResultSettingsMap": {},
     "title": ""
    }
   },
   "outputs": [],
   "source": [
    "SELECT * FROM savana_elenir_gold.qtd_transacoes_por_mes;\n",
    "SELECT * FROM savana_elenir_gold.valor_total_por_mes;\n",
    "SELECT * FROM savana_elenir_gold.volume_por_cidade;\n",
    "SELECT * FROM savana_elenir_gold.ultima_transacao_por_cliente;\n"
   ]
  }
 ],
 "metadata": {
  "application/vnd.databricks.v1+notebook": {
   "computePreferences": null,
   "dashboards": [],
   "environmentMetadata": {
    "base_environment": "",
    "environment_version": "2"
   },
   "inputWidgetPreferences": null,
   "language": "sql",
   "notebookMetadata": {
    "pythonIndentUnit": 4
   },
   "notebookName": "Gold_SavanaTech",
   "widgets": {}
  },
  "language_info": {
   "name": "sql"
  }
 },
 "nbformat": 4,
 "nbformat_minor": 0
}
