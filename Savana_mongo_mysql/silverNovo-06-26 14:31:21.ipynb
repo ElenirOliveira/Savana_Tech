{
 "cells": [
  {
   "cell_type": "code",
   "execution_count": 0,
   "metadata": {
    "application/vnd.databricks.v1+cell": {
     "cellMetadata": {
      "byteLimit": 2048000,
      "rowLimit": 10000
     },
     "inputWidgets": {},
     "nuid": "421e19b6-2bee-4dcc-8662-b2956c087d4b",
     "showTitle": false,
     "tableResultSettingsMap": {},
     "title": ""
    }
   },
   "outputs": [],
   "source": [
    "from pyspark.sql import functions as F\n",
    "\n",
    "# ✔️ Selecionar catálogo\n",
    "spark.sql(\"USE CATALOG adb_cliente_savana_prd\")\n"
   ]
  },
  {
   "cell_type": "code",
   "execution_count": 0,
   "metadata": {
    "application/vnd.databricks.v1+cell": {
     "cellMetadata": {
      "byteLimit": 2048000,
      "rowLimit": 10000
     },
     "inputWidgets": {},
     "nuid": "e729610c-b06d-4f39-9ad2-dc1bc3a2064f",
     "showTitle": false,
     "tableResultSettingsMap": {},
     "title": ""
    }
   },
   "outputs": [],
   "source": [
    "# Ler as tabelas salvas na camada Bronze\n",
    "bronze_transacoes = spark.table(\"savana_elenir_bronze.transacoes\")\n",
    "bronze_clientes = spark.table(\"savana_elenir_bronze.clientes\")\n",
    "\n",
    "# ✔️ Visualizar para garantir que está tudo certo\n",
    "display(bronze_transacoes)\n",
    "display(bronze_clientes)\n"
   ]
  },
  {
   "cell_type": "code",
   "execution_count": 0,
   "metadata": {
    "application/vnd.databricks.v1+cell": {
     "cellMetadata": {
      "byteLimit": 2048000,
      "rowLimit": 10000
     },
     "inputWidgets": {},
     "nuid": "552360b6-b9ab-4f25-b21d-bc8994bbea77",
     "showTitle": false,
     "tableResultSettingsMap": {},
     "title": ""
    }
   },
   "outputs": [],
   "source": [
    "from pyspark.sql import functions as F\n",
    "\n",
    "silver_transacoes = bronze_transacoes \\\n",
    "    .withColumn(\"id\", F.regexp_replace(F.col(\"_id.oid\"), \"[-_:\\\\s'\\\\/().$!@]\", \"\")) \\\n",
    "    .withColumn(\"oid\", F.col(\"_id.oid\")) \\\n",
    "    .withColumn(\"Meio_de_Pgmto\", F.when(F.col(\"Meio_de_Pgmto\").isNull() | (F.trim(F.col(\"Meio_de_Pgmto\")) == \"\"), \"não informado\")\n",
    "                .otherwise(F.lower(F.trim(F.col(\"Meio_de_Pgmto\"))))) \\\n",
    "    .withColumn(\"Tipo\", F.when(F.col(\"Tipo\").isNull() | (F.trim(F.col(\"Tipo\")) == \"\"), \"não informado\")\n",
    "                .otherwise(F.lower(F.trim(F.col(\"Tipo\"))))) \\\n",
    "    .drop(\"_id\") \\\n",
    "    .dropna(subset=[\"ID_Cliente\", \"ID_Transacao\", \"Valor\", \"Meio_de_Pgmto\", \"Tipo\", \"id\"]) \\\n",
    "    .dropDuplicates([\"ID_Transacao\", \"ID_Cliente\", \"Valor\", \"Meio_de_Pgmto\", \"Tipo\"])\n",
    "\n",
    "# Normalização dos meios de pagamento\n",
    "silver_transacoes = silver_transacoes.replace({\n",
    "    \"credito\": \"cartao de crédito\",\n",
    "    \"crédito\": \"cartao de crédito\",\n",
    "    \"debito\": \"cartao de débito\",\n",
    "    \"débito\": \"cartao de débito\"\n",
    "}, subset=[\"Meio_de_Pgmto\"])\n"
   ]
  },
  {
   "cell_type": "code",
   "execution_count": 0,
   "metadata": {
    "application/vnd.databricks.v1+cell": {
     "cellMetadata": {
      "byteLimit": 2048000,
      "rowLimit": 10000
     },
     "inputWidgets": {},
     "nuid": "0406b243-9551-468e-89b5-4277e10c53a4",
     "showTitle": false,
     "tableResultSettingsMap": {},
     "title": ""
    }
   },
   "outputs": [],
   "source": [
    "# 🔹 Tratamento - CLIENTES\n",
    "# ============================\n",
    "\n",
    "cidade_correcoes = {\n",
    "    \"So Paulo\": \"São Paulo\", \"Joo Pessoa\": \"João Pessoa\", \"Macap\": \"Macapá\",\n",
    "    \"Braslia\": \"Brasília\", \"So Luz\": \"São Luís\", \"Vitria\": \"Vitória\"\n",
    "}\n",
    "nome_correcoes = {\n",
    "    \"Joo Souza\": \"João Souza\", \"Lcia Azevedo\": \"Lúcia Azevedo\", \"Julina Lima\": \"Juliana Lima\",\n",
    "    \"Carla Per\": \"Carla Pereira\", \"Sandar Carvalho\": \"Sandra Carvalho\",\n",
    "    \"Andr Barros\": \"André Barros\", \"Patrcia Gomes\": \"Patrícia Gomes\"\n",
    "}\n",
    "\n",
    "silver_clientes = bronze_clientes \\\n",
    "    .withColumn(\"Nome\", F.when(F.col(\"Nome\").isNull() | (F.trim(F.col(\"Nome\")) == \"\"), \"Não informado\")\n",
    "                .otherwise(F.initcap(F.trim(F.col(\"Nome\"))))) \\\n",
    "    .withColumn(\"Cidade\", F.when(F.col(\"Cidade\").isNull() | (F.trim(F.col(\"Cidade\")) == \"\"), \"Não informado\")\n",
    "                .otherwise(F.initcap(F.trim(F.col(\"Cidade\"))))) \\\n",
    "    .withColumn(\"CPF\", F.regexp_replace(F.trim(F.when(F.col(\"CPF\").isNull(), \"00000000000\").otherwise(F.col(\"CPF\"))), \"[^0-9]\", \"\")) \\\n",
    "    .withColumn(\"Agencia\", F.regexp_replace(F.trim(F.when(F.col(\"Agencia\").isNull(), \"0000\").otherwise(F.col(\"Agencia\"))), \"[^0-9A-Za-z]\", \"\")) \\\n",
    "    .withColumn(\"CPF_valido\", F.when(F.length(F.col(\"CPF\")) == 11, True).otherwise(False)) \\\n",
    "    .replace(cidade_correcoes, subset=[\"Cidade\"]) \\\n",
    "    .replace(nome_correcoes, subset=[\"Nome\"]) \\\n",
    "    .fillna({\"Nome\": \"Não informado\", \"Cidade\": \"Não informado\", \"CPF\": \"00000000000\", \"Agencia\": \"0000\"}) \\\n",
    "    .dropDuplicates([\"ID\", \"CPF\"])\n",
    "\n",
    "\n"
   ]
  },
  {
   "cell_type": "code",
   "execution_count": 0,
   "metadata": {
    "application/vnd.databricks.v1+cell": {
     "cellMetadata": {
      "byteLimit": 2048000,
      "rowLimit": 10000
     },
     "inputWidgets": {},
     "nuid": "f4195dc9-e96a-4f60-9b59-5cdf19e7af38",
     "showTitle": false,
     "tableResultSettingsMap": {},
     "title": ""
    }
   },
   "outputs": [],
   "source": [
    "silver_transacoes.select(\"ID_Transacao\").printSchema()\n",
    "silver_clientes.select(\"Transacao\").printSchema()\n"
   ]
  },
  {
   "cell_type": "code",
   "execution_count": 0,
   "metadata": {
    "application/vnd.databricks.v1+cell": {
     "cellMetadata": {
      "byteLimit": 2048000,
      "rowLimit": 10000
     },
     "inputWidgets": {},
     "nuid": "be25d406-4031-4765-b4c9-d828d077d7f1",
     "showTitle": false,
     "tableResultSettingsMap": {},
     "title": ""
    }
   },
   "outputs": [],
   "source": [
    "# ✔️ Remover a coluna 'id' se existir (evita conflito no join)\n",
    "silver_transacoes = silver_transacoes.drop(\"id\")\n",
    "\n",
    "# ✔️ Realizar o JOIN entre ID_Transacao (transações) e Transacao (clientes)\n",
    "transacoes_enriquecidas = silver_transacoes.join(\n",
    "    silver_clientes,\n",
    "    silver_transacoes[\"ID_Transacao\"] == silver_clientes[\"Transacao\"],\n",
    "    \"left\"\n",
    ")\n",
    "\n",
    "# ✔️ Criar colunas de data com base na coluna dt_transacao\n",
    "\n",
    "transacoes_enriquecidas = transacoes_enriquecidas \\\n",
    "    .withColumn(\"Ano\", year(col(\"dt_transacao\"))) \\\n",
    "    .withColumn(\"Mes\", month(col(\"dt_transacao\"))) \\\n",
    "    .withColumn(\"Dia\", dayofmonth(col(\"dt_transacao\"))) \\\n",
    "    .withColumn(\"status_data\", when(col(\"dt_transacao\") > current_date(), \"Futura\").otherwise(\"Realizada\")) \\\n",
    "    .dropDuplicates()\n",
    "\n",
    "# ✔️ Definir status da data\n",
    "transacoes_enriquecidas = transacoes_enriquecidas \\\n",
    "    .withColumn(\"status_data\", when(col(\"dt_transacao\") > current_date(), \"Futura\").otherwise(\"Realizada\")) \\\n",
    "    .distinct()\n",
    "\n",
    "# ✔️ Salvar tabela enriquecida na Silver\n",
    "transacoes_enriquecidas.write.mode(\"overwrite\").format(\"delta\") \\\n",
    "    .saveAsTable(\"savana_elenir_silver.transacoes_enriquecidas\")\n",
    "\n",
    "# ✔️ Exibir dados\n",
    "display(transacoes_enriquecidas)\n"
   ]
  },
  {
   "cell_type": "code",
   "execution_count": 0,
   "metadata": {
    "application/vnd.databricks.v1+cell": {
     "cellMetadata": {
      "byteLimit": 2048000,
      "rowLimit": 10000
     },
     "inputWidgets": {},
     "nuid": "41bdd7f5-a58e-46f0-aee8-41c435862845",
     "showTitle": false,
     "tableResultSettingsMap": {},
     "title": ""
    }
   },
   "outputs": [],
   "source": [
    "transacoes_enriquecidas.printSchema()"
   ]
  },
  {
   "cell_type": "code",
   "execution_count": 0,
   "metadata": {
    "application/vnd.databricks.v1+cell": {
     "cellMetadata": {
      "byteLimit": 2048000,
      "implicitDf": true,
      "rowLimit": 10000
     },
     "inputWidgets": {},
     "nuid": "10705691-78d9-4d43-be87-cdaaffb41be2",
     "showTitle": false,
     "tableResultSettingsMap": {},
     "title": ""
    }
   },
   "outputs": [],
   "source": [
    "%sql\n",
    "SELECT\n",
    "  SUM(CASE WHEN ID_Cliente IS NULL THEN 1 ELSE 0 END) AS nulos_ID_Cliente,\n",
    "  SUM(CASE WHEN ID_Transacao IS NULL THEN 1 ELSE 0 END) AS nulos_ID_Transacao,\n",
    "  SUM(CASE WHEN Valor IS NULL THEN 1 ELSE 0 END) AS nulos_Valor,\n",
    "  SUM(CASE WHEN Meio_de_Pgmto IS NULL THEN 1 ELSE 0 END) AS nulos_Meio_de_Pgmto,\n",
    "  SUM(CASE WHEN Tipo IS NULL THEN 1 ELSE 0 END) AS nulos_Tipo,\n",
    "  SUM(CASE WHEN Nome IS NULL THEN 1 ELSE 0 END) AS nulos_Nome,\n",
    "  SUM(CASE WHEN Cidade IS NULL THEN 1 ELSE 0 END) AS nulos_Cidade,\n",
    "  SUM(CASE WHEN dt_transacao IS NULL THEN 1 ELSE 0 END) AS nulos_dt_transacao\n",
    "FROM adb_cliente_savana_prd.savana_elenir_silver.transacoes_enriquecidas;\n"
   ]
  },
  {
   "cell_type": "code",
   "execution_count": 0,
   "metadata": {
    "application/vnd.databricks.v1+cell": {
     "cellMetadata": {
      "byteLimit": 2048000,
      "implicitDf": true,
      "rowLimit": 10000
     },
     "inputWidgets": {},
     "nuid": "8bfc14e6-0372-4b7d-865f-0b1529c6377d",
     "showTitle": false,
     "tableResultSettingsMap": {},
     "title": ""
    }
   },
   "outputs": [],
   "source": [
    "%sql\n",
    "SELECT *\n",
    "FROM adb_cliente_savana_prd.savana_elenir_silver.transacoes_enriquecidas\n",
    "WHERE ID_Cliente IS NULL\n",
    "   OR ID_Transacao IS NULL\n",
    "   OR Valor IS NULL\n",
    "   OR Meio_de_Pgmto IS NULL\n",
    "   OR Tipo IS NULL\n",
    "   OR Nome IS NULL\n",
    "   OR Cidade IS NULL\n",
    "   OR dt_transacao IS NULL\n",
    "LIMIT 50;\n"
   ]
  },
  {
   "cell_type": "code",
   "execution_count": 0,
   "metadata": {
    "application/vnd.databricks.v1+cell": {
     "cellMetadata": {
      "byteLimit": 2048000,
      "implicitDf": true,
      "rowLimit": 10000
     },
     "inputWidgets": {},
     "nuid": "33632b2e-85ab-4190-9588-29e24e3eff49",
     "showTitle": false,
     "tableResultSettingsMap": {},
     "title": ""
    }
   },
   "outputs": [],
   "source": [
    "%sql\n",
    "SELECT DISTINCT *\n",
    "FROM adb_cliente_savana_prd.savana_elenir_silver.transacoes_enriquecidas\n",
    "LIMIT 50;\n"
   ]
  },
  {
   "cell_type": "code",
   "execution_count": 0,
   "metadata": {
    "application/vnd.databricks.v1+cell": {
     "cellMetadata": {
      "byteLimit": 2048000,
      "implicitDf": true,
      "rowLimit": 10000
     },
     "inputWidgets": {},
     "nuid": "03908c00-654a-4af4-8484-bacdf8b286e3",
     "showTitle": false,
     "tableResultSettingsMap": {},
     "title": ""
    }
   },
   "outputs": [],
   "source": [
    "%sql\n",
    "SELECT\n",
    "  COUNT(*) AS total_linhas,\n",
    "  COUNT(ID_Cliente) AS nao_nulos_ID_Cliente,\n",
    "  COUNT(ID_Transacao) AS nao_nulos_ID_Transacao,\n",
    "  COUNT(Valor) AS nao_nulos_Valor,\n",
    "  COUNT(Meio_de_Pgmto) AS nao_nulos_Meio_de_Pgmto,\n",
    "  COUNT(Tipo) AS nao_nulos_Tipo,\n",
    "  COUNT(Nome) AS nao_nulos_Nome,\n",
    "  COUNT(Cidade) AS nao_nulos_Cidade,\n",
    "  COUNT(dt_transacao) AS nao_nulos_dt_transacao\n",
    "FROM adb_cliente_savana_prd.savana_elenir_silver.transacoes_enriquecidas;\n"
   ]
  },
  {
   "cell_type": "code",
   "execution_count": 0,
   "metadata": {
    "application/vnd.databricks.v1+cell": {
     "cellMetadata": {
      "byteLimit": 2048000,
      "implicitDf": true,
      "rowLimit": 10000
     },
     "inputWidgets": {},
     "nuid": "5ef2408d-15af-429f-9f60-92aca7db932e",
     "showTitle": false,
     "tableResultSettingsMap": {},
     "title": ""
    }
   },
   "outputs": [],
   "source": [
    "%sql\n",
    "SELECT\n",
    "  COUNT(*) AS total_linhas,\n",
    "  SUM(CASE WHEN ID_Cliente IS NULL THEN 1 ELSE 0 END) AS nulos_ID_Cliente,\n",
    "  SUM(CASE WHEN ID_Transacao IS NULL THEN 1 ELSE 0 END) AS nulos_ID_Transacao,\n",
    "  SUM(CASE WHEN Valor IS NULL THEN 1 ELSE 0 END) AS nulos_Valor,\n",
    "  SUM(CASE WHEN Meio_de_Pgmto IS NULL THEN 1 ELSE 0 END) AS nulos_Meio_de_Pgmto,\n",
    "  SUM(CASE WHEN Tipo IS NULL THEN 1 ELSE 0 END) AS nulos_Tipo,\n",
    "  SUM(CASE WHEN Nome IS NULL THEN 1 ELSE 0 END) AS nulos_Nome,\n",
    "  SUM(CASE WHEN Cidade IS NULL THEN 1 ELSE 0 END) AS nulos_Cidade,\n",
    "  SUM(CASE WHEN dt_transacao IS NULL THEN 1 ELSE 0 END) AS nulos_dt_transacao\n",
    "FROM adb_cliente_savana_prd.savana_elenir_silver.transacoes_enriquecidas;\n"
   ]
  },
  {
   "cell_type": "code",
   "execution_count": 0,
   "metadata": {
    "application/vnd.databricks.v1+cell": {
     "cellMetadata": {
      "byteLimit": 2048000,
      "implicitDf": true,
      "rowLimit": 10000
     },
     "inputWidgets": {},
     "nuid": "fbc873f4-bf4b-4342-a992-fc719c392fdb",
     "showTitle": false,
     "tableResultSettingsMap": {},
     "title": ""
    }
   },
   "outputs": [],
   "source": [
    "%sql\n",
    "CREATE OR REPLACE TEMP VIEW transacoes_unicas AS\n",
    "SELECT DISTINCT\n",
    "  ID_Transacao,\n",
    "  Meio_de_Pgmto,\n",
    "  Tipo,\n",
    "  Valor\n",
    "FROM\n",
    "  adb_cliente_savana_prd.savana_elenir_bronze.transacoes;\n"
   ]
  },
  {
   "cell_type": "code",
   "execution_count": 0,
   "metadata": {
    "application/vnd.databricks.v1+cell": {
     "cellMetadata": {
      "byteLimit": 2048000,
      "implicitDf": true,
      "rowLimit": 10000
     },
     "inputWidgets": {},
     "nuid": "fbbe1840-9f2b-4d95-9acc-eb5ca3813d07",
     "showTitle": false,
     "tableResultSettingsMap": {},
     "title": ""
    }
   },
   "outputs": [],
   "source": [
    "%sql\n",
    "CREATE OR REPLACE TEMP VIEW teste_join AS\n",
    "SELECT\n",
    "  c.ID             AS ID_Cliente,\n",
    "  c.Nome,\n",
    "  c.Transacao      AS ID_Transacao,\n",
    "  c.dt_transacao,\n",
    "  t.Meio_de_Pgmto,\n",
    "  t.Tipo,\n",
    "  t.Valor\n",
    "FROM\n",
    "  adb_cliente_savana_prd.savana_elenir_bronze.clientes c\n",
    "INNER JOIN\n",
    "  transacoes_unicas t\n",
    "ON\n",
    "  c.Transacao = t.ID_Transacao\n",
    "WHERE\n",
    "  c.dt_transacao IS NOT NULL;\n"
   ]
  },
  {
   "cell_type": "code",
   "execution_count": 0,
   "metadata": {
    "application/vnd.databricks.v1+cell": {
     "cellMetadata": {
      "byteLimit": 2048000,
      "implicitDf": true,
      "rowLimit": 10000
     },
     "inputWidgets": {},
     "nuid": "90b7c4a1-4c6b-48c7-930f-8a4137c43a0a",
     "showTitle": false,
     "tableResultSettingsMap": {},
     "title": ""
    }
   },
   "outputs": [],
   "source": [
    "%sql \n",
    "SELECT * FROM teste_join LIMIT 50;\n"
   ]
  },
  {
   "cell_type": "code",
   "execution_count": 0,
   "metadata": {
    "application/vnd.databricks.v1+cell": {
     "cellMetadata": {
      "byteLimit": 2048000,
      "implicitDf": true,
      "rowLimit": 10000
     },
     "inputWidgets": {},
     "nuid": "6b1d2ed2-5880-4e7e-96be-b6296d4483f4",
     "showTitle": false,
     "tableResultSettingsMap": {},
     "title": ""
    }
   },
   "outputs": [],
   "source": [
    "%sql\n",
    "SELECT COUNT(DISTINCT ID_Cliente) AS total_clientes\n",
    "FROM teste_join;\n"
   ]
  },
  {
   "cell_type": "code",
   "execution_count": 0,
   "metadata": {
    "application/vnd.databricks.v1+cell": {
     "cellMetadata": {
      "byteLimit": 2048000,
      "implicitDf": true,
      "rowLimit": 10000
     },
     "inputWidgets": {},
     "nuid": "ad0d3f00-3575-417f-af93-334eb32fb17c",
     "showTitle": false,
     "tableResultSettingsMap": {},
     "title": ""
    }
   },
   "outputs": [],
   "source": [
    "%sql\n",
    "CREATE OR REPLACE TABLE adb_cliente_savana_prd.savana_elenir_gold.transacoes_por_cliente_mes AS\n",
    "SELECT\n",
    "  ID_Cliente,\n",
    "  MONTH(dt_transacao) AS Mes,\n",
    "  YEAR(dt_transacao) AS Ano,\n",
    "  COUNT(ID_Transacao) AS Total_Transacoes\n",
    "FROM teste_join\n",
    "GROUP BY ID_Cliente, MONTH(dt_transacao), YEAR(dt_transacao);\n",
    "\n"
   ]
  },
  {
   "cell_type": "code",
   "execution_count": 0,
   "metadata": {
    "application/vnd.databricks.v1+cell": {
     "cellMetadata": {
      "byteLimit": 2048000,
      "implicitDf": true,
      "rowLimit": 10000
     },
     "inputWidgets": {},
     "nuid": "48573f69-2a2d-4404-9ebc-9cb4553f61e9",
     "showTitle": false,
     "tableResultSettingsMap": {},
     "title": ""
    }
   },
   "outputs": [],
   "source": [
    "%sql\n",
    "SELECT COUNT(*) AS total_linhas_join\n",
    "FROM teste_join;\n"
   ]
  },
  {
   "cell_type": "code",
   "execution_count": 0,
   "metadata": {
    "application/vnd.databricks.v1+cell": {
     "cellMetadata": {
      "byteLimit": 2048000,
      "implicitDf": true,
      "rowLimit": 10000
     },
     "inputWidgets": {},
     "nuid": "0b47f7e7-b12e-4f4e-bb09-c38bf8e9d0b9",
     "showTitle": false,
     "tableResultSettingsMap": {},
     "title": ""
    }
   },
   "outputs": [],
   "source": [
    "%sql\n",
    "SELECT COUNT(DISTINCT ID_Transacao) AS total_transacoes\n",
    "FROM teste_join;\n"
   ]
  }
 ],
 "metadata": {
  "application/vnd.databricks.v1+notebook": {
   "computePreferences": null,
   "dashboards": [],
   "environmentMetadata": {
    "base_environment": "",
    "environment_version": "2"
   },
   "inputWidgetPreferences": null,
   "language": "python",
   "notebookMetadata": {
    "mostRecentlyExecutedCommandWithImplicitDF": {
     "commandId": 5312027059368506,
     "dataframes": [
      "_sqldf"
     ]
    },
    "pythonIndentUnit": 4
   },
   "notebookName": "silverNovo-06-26 14:31:21",
   "widgets": {}
  },
  "language_info": {
   "name": "python"
  }
 },
 "nbformat": 4,
 "nbformat_minor": 0
}
