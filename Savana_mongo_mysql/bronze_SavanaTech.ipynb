{
 "cells": [
  {
   "cell_type": "code",
   "execution_count": 0,
   "metadata": {
    "application/vnd.databricks.v1+cell": {
     "cellMetadata": {
      "byteLimit": 2048000,
      "rowLimit": 10000
     },
     "inputWidgets": {},
     "nuid": "98b04628-e024-4c17-ae81-27277952bd5a",
     "showTitle": true,
     "tableResultSettingsMap": {},
     "title": "Ingestão de dados"
    }
   },
   "outputs": [],
   "source": [
    "from pyspark.sql import SparkSession\n",
    "import os\n",
    "spark = SparkSession.builder.getOrCreate()"
   ]
  },
  {
   "cell_type": "code",
   "execution_count": 0,
   "metadata": {
    "application/vnd.databricks.v1+cell": {
     "cellMetadata": {
      "byteLimit": 2048000,
      "rowLimit": 10000
     },
     "inputWidgets": {},
     "nuid": "d27fb624-261e-416e-96d5-b7bd5908921c",
     "showTitle": false,
     "tableResultSettingsMap": {},
     "title": ""
    }
   },
   "outputs": [],
   "source": [
    "spark.sql(\"SHOW CATALOGS\").show()\n"
   ]
  },
  {
   "cell_type": "code",
   "execution_count": 0,
   "metadata": {
    "application/vnd.databricks.v1+cell": {
     "cellMetadata": {
      "byteLimit": 2048000,
      "rowLimit": 10000
     },
     "inputWidgets": {},
     "nuid": "c3982b1c-b533-4090-ad52-d81702c6ae79",
     "showTitle": false,
     "tableResultSettingsMap": {},
     "title": ""
    }
   },
   "outputs": [],
   "source": [
    "spark.sql(\"USE CATALOG adb_cliente_savana_prd\")"
   ]
  },
  {
   "cell_type": "code",
   "execution_count": 0,
   "metadata": {
    "application/vnd.databricks.v1+cell": {
     "cellMetadata": {
      "byteLimit": 2048000,
      "rowLimit": 10000
     },
     "inputWidgets": {},
     "nuid": "9a3efbb1-f504-403c-ad00-fefab92aa03f",
     "showTitle": false,
     "tableResultSettingsMap": {},
     "title": ""
    }
   },
   "outputs": [],
   "source": [
    "# Criar schema da Bronze (caso não exista)\n",
    "spark.sql(\"CREATE SCHEMA IF NOT EXISTS savana_elenir_bronze\")\n",
    "\n",
    "spark.sql(\"CREATE SCHEMA IF NOT EXISTS savana_elenir_silver\")\n",
    "\n",
    "spark.sql(\"CREATE SCHEMA IF NOT EXISTS savana_elenir_gold\")\n"
   ]
  },
  {
   "cell_type": "markdown",
   "metadata": {
    "application/vnd.databricks.v1+cell": {
     "cellMetadata": {
      "byteLimit": 2048000,
      "rowLimit": 10000
     },
     "inputWidgets": {},
     "nuid": "7d3c27e6-0c6c-4899-afb0-e09d2173a2a3",
     "showTitle": false,
     "tableResultSettingsMap": {},
     "title": ""
    }
   },
   "source": [
    "# Leitura dos dados"
   ]
  },
  {
   "cell_type": "code",
   "execution_count": 0,
   "metadata": {
    "application/vnd.databricks.v1+cell": {
     "cellMetadata": {
      "byteLimit": 2048000,
      "rowLimit": 10000
     },
     "inputWidgets": {},
     "nuid": "f726c868-840d-415a-8c4b-f305805bc80c",
     "showTitle": false,
     "tableResultSettingsMap": {},
     "title": ""
    }
   },
   "outputs": [],
   "source": [
    "# MongoDB - leitura de transações\n",
    "# -------------------------------\n",
    "user_mongo = \"savana\"\n",
    "password_mongo = os.environ.get(\"password_mongo\") \n",
    "host_mongo = \"52.146.23.117\"\n",
    "database_mongo = \"transacao\"\n",
    "collection = \"transacoes\"\n",
    "\n",
    "uri_mongo = f\"mongodb://{user_mongo}:{password_mongo}@{host_mongo}:27017/{database_mongo}.{collection}?authSource=admin\"\n",
    "\n",
    "transacoes_df = (spark.read\n",
    "    .format(\"com.mongodb.spark.sql.DefaultSource\")\n",
    "    .option(\"uri\", uri_mongo)\n",
    "    .option(\"database\", database_mongo)\n",
    "    .option(\"collection\", collection)\n",
    "    .load()\n",
    ")\n",
    "\n",
    "display(transacoes_df)\n"
   ]
  },
  {
   "cell_type": "code",
   "execution_count": 0,
   "metadata": {
    "application/vnd.databricks.v1+cell": {
     "cellMetadata": {
      "byteLimit": 2048000,
      "rowLimit": 10000
     },
     "inputWidgets": {},
     "nuid": "9f5c2d24-1bdb-4916-bbc7-253951fc4180",
     "showTitle": false,
     "tableResultSettingsMap": {},
     "title": ""
    }
   },
   "outputs": [],
   "source": [
    "# MySQL - leitura de clientes\n",
    "# -------------------------------\n",
    "user_mysql = \"root\"\n",
    "password_mysql = os.environ.get(\"password_mysql\")  # <- Correto agora\n",
    "\n",
    "url_mysql = \"jdbc:mysql://52.146.23.117:3306/base_clientes?useSSL=false&serverTimezone=UTC\"\n",
    "\n",
    "clientes_df = (spark.read\n",
    "    .format(\"jdbc\")\n",
    "    .option(\"driver\", \"com.mysql.cj.jdbc.Driver\")\n",
    "    .option(\"url\", url_mysql)\n",
    "    .option(\"dbtable\", \"Clientes\")\n",
    "    .option(\"user\", user_mysql)\n",
    "    .option(\"password\", password_mysql)\n",
    "    .load()\n",
    ")\n",
    "\n",
    "display(clientes_df)\n",
    "\n"
   ]
  },
  {
   "cell_type": "code",
   "execution_count": 0,
   "metadata": {
    "application/vnd.databricks.v1+cell": {
     "cellMetadata": {
      "byteLimit": 2048000,
      "rowLimit": 10000
     },
     "inputWidgets": {},
     "nuid": "556d4ef6-04e5-4e08-878a-517f5d10b6bf",
     "showTitle": false,
     "tableResultSettingsMap": {},
     "title": ""
    }
   },
   "outputs": [],
   "source": [
    "transacoes_df.printSchema()\n",
    "clientes_df.printSchema()"
   ]
  },
  {
   "cell_type": "code",
   "execution_count": 0,
   "metadata": {
    "application/vnd.databricks.v1+cell": {
     "cellMetadata": {
      "byteLimit": 2048000,
      "rowLimit": 10000
     },
     "inputWidgets": {},
     "nuid": "31bd17af-7f3a-4969-bc8a-58cdc739e8ba",
     "showTitle": false,
     "tableResultSettingsMap": {},
     "title": ""
    }
   },
   "outputs": [],
   "source": [
    "# Salvar transações no Unity Catalog (Bronze)\n",
    "transacoes_df.write.mode(\"overwrite\").format(\"delta\") \\\n",
    "    .saveAsTable(\"adb_cliente_savana_prd.savana_elenir_bronze.transacoes\")\n",
    "\n",
    "# Salvar clientes no Unity Catalog (Bronze)\n",
    "clientes_df.write.mode(\"overwrite\").format(\"delta\") \\\n",
    "    .saveAsTable(\"adb_cliente_savana_prd.savana_elenir_bronze.clientes\")\n"
   ]
  },
  {
   "cell_type": "markdown",
   "metadata": {
    "application/vnd.databricks.v1+cell": {
     "cellMetadata": {
      "byteLimit": 2048000,
      "rowLimit": 10000
     },
     "inputWidgets": {},
     "nuid": "6c7c1e61-a353-4407-9bfd-b8590abfcad7",
     "showTitle": false,
     "tableResultSettingsMap": {},
     "title": ""
    }
   },
   "source": [
    "#  Verificação de relacionamento\n",
    "✅ Relação 1: \n",
    "\n",
    "ID_Cliente ↔ ID\n",
    "\n",
    "Compatibilidade:\n",
    "\n",
    "ID_Cliente (transações) é integer\n",
    "\n",
    "ID (clientes) é integer\n",
    "\n",
    "Conclusão: \n",
    "\n",
    "✅ Chave principal e estrangeira clássica.\n",
    "\n",
    "⚠️ Relação 2:\n",
    "\n",
    " ID_Transacao ↔ Transacao\n",
    "\n",
    "Ambos são inteiros, mas:\n",
    "\n",
    "ID_Transacao na tabela de transações parece ser o identificador único da transação.\n",
    "\n",
    "\n",
    "Transacao na tabela de clientes parece ser um campo auxiliar ou \"última transação feita\"."
   ]
  }
 ],
 "metadata": {
  "application/vnd.databricks.v1+notebook": {
   "computePreferences": null,
   "dashboards": [],
   "environmentMetadata": {
    "base_environment": "",
    "environment_version": "2"
   },
   "inputWidgetPreferences": null,
   "language": "python",
   "notebookMetadata": {
    "mostRecentlyExecutedCommandWithImplicitDF": {
     "commandId": 4637559983298417,
     "dataframes": [
      "_sqldf"
     ]
    },
    "pythonIndentUnit": 4
   },
   "notebookName": "bronze_SavanaTech",
   "widgets": {}
  },
  "language_info": {
   "name": "python"
  }
 },
 "nbformat": 4,
 "nbformat_minor": 0
}
