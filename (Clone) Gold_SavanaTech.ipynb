{
 "cells": [
  {
   "cell_type": "code",
   "execution_count": 0,
   "metadata": {
    "application/vnd.databricks.v1+cell": {
     "cellMetadata": {
      "byteLimit": 2048000,
      "implicitDf": true,
      "rowLimit": 10000
     },
     "inputWidgets": {},
     "nuid": "e2fe710d-82ff-4593-867b-fd264eb4f133",
     "showTitle": false,
     "tableResultSettingsMap": {},
     "title": ""
    }
   },
   "outputs": [],
   "source": [
    "%sql\n",
    "SELECT * FROM adb_cliente_savana_prd.elenir_silver.transacoes_enriquecidas LIMIT 10;\n"
   ]
  },
  {
   "cell_type": "code",
   "execution_count": 0,
   "metadata": {
    "application/vnd.databricks.v1+cell": {
     "cellMetadata": {
      "byteLimit": 2048000,
      "rowLimit": 10000
     },
     "inputWidgets": {},
     "nuid": "eaf7f7d8-f437-48a6-b052-762971bb5989",
     "showTitle": false,
     "tableResultSettingsMap": {},
     "title": ""
    },
    "jupyter": {
     "source_hidden": true
    }
   },
   "outputs": [],
   "source": [
    "%sql\n",
    "CREATE OR REPLACE TABLE adb_cliente_savana_prd.elenir_gold.qtd_transacoes_mes_usuario AS\n",
    "SELECT \n",
    "    ID_Cliente,\n",
    "    Ano,\n",
    "    Mes,\n",
    "    COUNT(ID_Transacao) AS Qtd_Transacoes\n",
    "FROM adb_cliente_savana_prd.elenir_silver.transacoes_enriquecidas\n",
    "GROUP BY \n",
    "    ID_Cliente,\n",
    "    Ano,\n",
    "    Mes;\n"
   ]
  },
  {
   "cell_type": "code",
   "execution_count": 0,
   "metadata": {
    "application/vnd.databricks.v1+cell": {
     "cellMetadata": {
      "byteLimit": 2048000,
      "rowLimit": 10000
     },
     "inputWidgets": {},
     "nuid": "3e9b048c-913b-4f9d-be1c-f4af984bd973",
     "showTitle": false,
     "tableResultSettingsMap": {},
     "title": ""
    }
   },
   "outputs": [],
   "source": [
    "%sql\n",
    "SELECT * \n",
    "FROM adb_cliente_savana_prd.elenir_gold.qtd_transacoes_mes_usuario\n",
    "LIMIT 5;\n"
   ]
  },
  {
   "cell_type": "code",
   "execution_count": 0,
   "metadata": {
    "application/vnd.databricks.v1+cell": {
     "cellMetadata": {
      "byteLimit": 2048000,
      "rowLimit": 10000
     },
     "inputWidgets": {},
     "nuid": "65971a7c-9252-4103-9365-e0c049da15db",
     "showTitle": true,
     "tableResultSettingsMap": {},
     "title": "valor total mes/usuario"
    },
    "jupyter": {
     "source_hidden": true
    }
   },
   "outputs": [],
   "source": [
    "%sql\n",
    "CREATE OR REPLACE TABLE adb_cliente_savana_prd.elenir_gold.valor_total_mes_usuario AS\n",
    "SELECT \n",
    "    ID_Cliente,\n",
    "    Ano,\n",
    "    Mes,\n",
    "    SUM(Valor) AS Valor_Total_Transacoes\n",
    "FROM adb_cliente_savana_prd.elenir_silver.transacoes_enriquecidas\n",
    "GROUP BY \n",
    "    ID_Cliente,\n",
    "    Ano,\n",
    "    Mes;\n"
   ]
  },
  {
   "cell_type": "code",
   "execution_count": 0,
   "metadata": {
    "application/vnd.databricks.v1+cell": {
     "cellMetadata": {
      "byteLimit": 2048000,
      "rowLimit": 10000
     },
     "inputWidgets": {},
     "nuid": "68f88c9e-14d4-42d5-8779-3653a3b7e12a",
     "showTitle": false,
     "tableResultSettingsMap": {},
     "title": ""
    }
   },
   "outputs": [],
   "source": [
    "%sql\n",
    "SELECT * \n",
    "FROM adb_cliente_savana_prd.elenir_gold.valor_total_mes_usuario\n",
    "LIMIT 5;\n",
    "\n"
   ]
  },
  {
   "cell_type": "code",
   "execution_count": 0,
   "metadata": {
    "application/vnd.databricks.v1+cell": {
     "cellMetadata": {
      "byteLimit": 2048000,
      "rowLimit": 10000
     },
     "inputWidgets": {},
     "nuid": "a5b94b29-3dc9-4bd5-82bb-5bc435413331",
     "showTitle": false,
     "tableResultSettingsMap": {},
     "title": ""
    },
    "jupyter": {
     "source_hidden": true
    }
   },
   "outputs": [],
   "source": [
    "%sql\n",
    "CREATE OR REPLACE TABLE adb_cliente_savana_prd.elenir_gold.volume_transacoes_cidade AS\n",
    "SELECT \n",
    "    Cidade,\n",
    "    COUNT(ID_Transacao) AS Qtd_Transacoes,\n",
    "    SUM(Valor) AS Valor_Total_Transacoes\n",
    "FROM adb_cliente_savana_prd.elenir_silver.transacoes_enriquecidas\n",
    "GROUP BY \n",
    "    Cidade;\n"
   ]
  },
  {
   "cell_type": "code",
   "execution_count": 0,
   "metadata": {
    "application/vnd.databricks.v1+cell": {
     "cellMetadata": {
      "byteLimit": 2048000,
      "rowLimit": 10000
     },
     "inputWidgets": {},
     "nuid": "4106c730-4a38-4221-8103-1617caddf5c7",
     "showTitle": false,
     "tableResultSettingsMap": {},
     "title": ""
    }
   },
   "outputs": [],
   "source": [
    "%sql\n",
    "SELECT * \n",
    "FROM adb_cliente_savana_prd.elenir_gold.volume_transacoes_cidade\n",
    "LIMIT 5;\n"
   ]
  },
  {
   "cell_type": "code",
   "execution_count": 0,
   "metadata": {
    "application/vnd.databricks.v1+cell": {
     "cellMetadata": {
      "byteLimit": 2048000,
      "rowLimit": 10000
     },
     "inputWidgets": {},
     "nuid": "3419ba50-1974-4075-befb-a59dffba182f",
     "showTitle": false,
     "tableResultSettingsMap": {},
     "title": ""
    },
    "jupyter": {
     "source_hidden": true
    }
   },
   "outputs": [],
   "source": [
    "%sql\n",
    "CREATE OR REPLACE TABLE adb_cliente_savana_prd.elenir_gold.ultima_transacao_cliente AS\n",
    "SELECT \n",
    "    ID_Cliente,\n",
    "    MAX(DataCriacao) AS Data_Ultima_Transacao\n",
    "FROM adb_cliente_savana_prd.elenir_silver.transacoes_enriquecidas\n",
    "GROUP BY \n",
    "    ID_Cliente;\n"
   ]
  },
  {
   "cell_type": "code",
   "execution_count": 0,
   "metadata": {
    "application/vnd.databricks.v1+cell": {
     "cellMetadata": {
      "byteLimit": 2048000,
      "rowLimit": 10000
     },
     "inputWidgets": {},
     "nuid": "248b1131-13e5-48b6-8c8c-330dbc3f2e3a",
     "showTitle": false,
     "tableResultSettingsMap": {},
     "title": ""
    }
   },
   "outputs": [],
   "source": [
    "%sql\n",
    "SELECT * \n",
    "FROM adb_cliente_savana_prd.elenir_gold.ultima_transacao_cliente\n",
    "LIMIT 5;\n"
   ]
  }
 ],
 "metadata": {
  "application/vnd.databricks.v1+notebook": {
   "computePreferences": null,
   "dashboards": [],
   "environmentMetadata": {
    "base_environment": "",
    "environment_version": "2"
   },
   "inputWidgetPreferences": null,
   "language": "sql",
   "notebookMetadata": {
    "mostRecentlyExecutedCommandWithImplicitDF": {
     "commandId": -1,
     "dataframes": [
      "_sqldf"
     ]
    },
    "pythonIndentUnit": 4
   },
   "notebookName": "(Clone) Gold_SavanaTech",
   "widgets": {}
  },
  "language_info": {
   "name": "sql"
  }
 },
 "nbformat": 4,
 "nbformat_minor": 0
}
