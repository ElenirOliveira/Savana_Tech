{
 "cells": [
  {
   "cell_type": "code",
   "execution_count": 0,
   "metadata": {
    "application/vnd.databricks.v1+cell": {
     "cellMetadata": {},
     "inputWidgets": {},
     "nuid": "038e1fbf-eb96-45f8-9452-fdee4426957c",
     "showTitle": false,
     "tableResultSettingsMap": {},
     "title": ""
    }
   },
   "outputs": [],
   "source": [
    "%sql\n",
    "-- GOLD - Qtd de transações por mês por usuário\n",
    "CREATE OR REPLACE TABLE adb_cliente_savana_prd.elenir_gold.transacoes_por_mes AS\n",
    "SELECT\n",
    "  cliente_id,\n",
    "  date_format(data_transacao, 'yyyy-MM') AS mes,\n",
    "  COUNT(*) AS qtd_transacoes\n",
    "FROM adb_cliente_savana_prd.elenir_silver.transacoes_enriquecidas\n",
    "GROUP BY cliente_id, date_format(data_transacao, 'yyyy-MM');"
   ]
  },
  {
   "cell_type": "code",
   "execution_count": 0,
   "metadata": {
    "application/vnd.databricks.v1+cell": {
     "cellMetadata": {},
     "inputWidgets": {},
     "nuid": "a38d24e7-f03c-4d3a-a1ff-46439fb55c4c",
     "showTitle": false,
     "tableResultSettingsMap": {},
     "title": ""
    }
   },
   "outputs": [],
   "source": [
    "%sql\n",
    "-- Valor total por usuário por mês\n",
    "CREATE OR REPLACE TABLE adb_cliente_savana_prd.elenir_gold.valor_total_por_mes AS\n",
    "SELECT\n",
    "  cliente_id,\n",
    "  date_format(data_transacao, 'yyyy-MM') AS mes,\n",
    "  SUM(valor) AS total_valor\n",
    "FROM adb_cliente_savana_prd.elenir_silver.transacoes_enriquecidas\n",
    "GROUP BY cliente_id, date_format(data_transacao, 'yyyy-MM');\n"
   ]
  },
  {
   "cell_type": "code",
   "execution_count": 0,
   "metadata": {
    "application/vnd.databricks.v1+cell": {
     "cellMetadata": {},
     "inputWidgets": {},
     "nuid": "eec5c445-dc17-4234-8901-7ab91ae03bfa",
     "showTitle": false,
     "tableResultSettingsMap": {},
     "title": ""
    }
   },
   "outputs": [],
   "source": [
    "%sql\n",
    "-- Volume de transações por cidade\n",
    "CREATE OR REPLACE TABLE adb_cliente_savana_prd.elenir_gold.volume_por_cidade AS\n",
    "SELECT\n",
    "  cidade,\n",
    "  COUNT(*) AS volume\n",
    "FROM adb_cliente_savana_prd.elenir.silver.transacoes_enriquecidas\n",
    "GROUP BY cidade;"
   ]
  },
  {
   "cell_type": "code",
   "execution_count": 0,
   "metadata": {
    "application/vnd.databricks.v1+cell": {
     "cellMetadata": {},
     "inputWidgets": {},
     "nuid": "8a680222-7b71-46d0-b1c7-711481be4e7f",
     "showTitle": false,
     "tableResultSettingsMap": {},
     "title": ""
    }
   },
   "outputs": [],
   "source": [
    "%sql\n",
    "-- Última transação por cliente\n",
    "CREATE OR REPLACE TABLE adb_cliente_savana_prd.elenir_gold.ultima_transacao_cliente AS\n",
    "SELECT\n",
    "  cliente_id,\n",
    "  MAX(data_transacao) AS ultima_transacao\n",
    "FROM adb_cliente_savana_prd.elenir_silver.transacoes_enriquecidas\n",
    "GROUP BY cliente_id;\n"
   ]
  }
 ],
 "metadata": {
  "application/vnd.databricks.v1+notebook": {
   "computePreferences": null,
   "dashboards": [],
   "environmentMetadata": {
    "base_environment": "",
    "environment_version": "2"
   },
   "inputWidgetPreferences": null,
   "language": "python",
   "notebookMetadata": {
    "pythonIndentUnit": 4
   },
   "notebookName": "(Clone) Gold_SavanaTech",
   "widgets": {}
  },
  "language_info": {
   "name": "python"
  }
 },
 "nbformat": 4,
 "nbformat_minor": 0
}
